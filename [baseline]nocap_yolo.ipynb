{
 "cells": [
  {
   "cell_type": "code",
   "execution_count": 1,
   "metadata": {},
   "outputs": [
    {
     "name": "stdout",
     "output_type": "stream",
     "text": [
      "Cloning into 'cfg'...\n",
      "fatal: repository 'https://github.com/pjreddie/darknet/tree/master/cfg/' not found\n"
     ]
    }
   ],
   "source": [
    "# !git clone https://github.com/pjreddie/darknet/tree/master/cfg"
   ]
  },
  {
   "cell_type": "code",
   "execution_count": 3,
   "metadata": {},
   "outputs": [
    {
     "name": "stdout",
     "output_type": "stream",
     "text": [
      "Cloning into 'darknet'...\n",
      "remote: Enumerating objects: 5955, done.\u001b[K\n",
      "remote: Total 5955 (delta 0), reused 0 (delta 0), pack-reused 5955\u001b[K\n",
      "Receiving objects: 100% (5955/5955), 6.37 MiB | 14.53 MiB/s, done.\n",
      "Resolving deltas: 100% (3932/3932), done.\n"
     ]
    }
   ],
   "source": [
    "!git clone https://github.com/pjreddie/darknet"
   ]
  },
  {
   "cell_type": "code",
   "execution_count": 2,
   "metadata": {},
   "outputs": [
    {
     "ename": "ModuleNotFoundError",
     "evalue": "No module named 'darknet'",
     "output_type": "error",
     "traceback": [
      "\u001b[0;31m---------------------------------------------------------------------------\u001b[0m",
      "\u001b[0;31mModuleNotFoundError\u001b[0m                       Traceback (most recent call last)",
      "\u001b[1;32m/Users/being/Desktop/[github] workspace/NoCAP_flyingYOLO/[baseline]nocap_yolo.ipynb 셀 2\u001b[0m line \u001b[0;36m1\n\u001b[0;32m----> <a href='vscode-notebook-cell:/Users/being/Desktop/%5Bgithub%5D%20workspace/NoCAP_flyingYOLO/%5Bbaseline%5Dnocap_yolo.ipynb#W3sZmlsZQ%3D%3D?line=0'>1</a>\u001b[0m \u001b[39mimport\u001b[39;00m \u001b[39mdarknet\u001b[39;00m\n",
      "\u001b[0;31mModuleNotFoundError\u001b[0m: No module named 'darknet'"
     ]
    }
   ],
   "source": [
    "import darknet"
   ]
  },
  {
   "cell_type": "code",
   "execution_count": null,
   "metadata": {},
   "outputs": [],
   "source": [
    "from djitellopy import Tello\n",
    "import cv2\n",
    "import darknet\n",
    "import time\n",
    "\n",
    "# YOLO 설정\n",
    "net, class_names, class_colors = darknet.load_network(\n",
    "    \"your_cfg_file.cfg\",\n",
    "    \"your_data_file.data\",\n",
    "    \"your_weights.weights\",\n",
    "    batch_size=1\n",
    ")\n",
    "\n",
    "# Tello 드론 초기화 및 연결\n",
    "drone = Tello()\n",
    "drone.connect()\n",
    "\n",
    "# 드론 이륙\n",
    "drone.takeoff()\n",
    "time.sleep(2)\n",
    "\n",
    "# 비디오 스트림 시작\n",
    "drone.streamon()\n",
    "\n",
    "while True:\n",
    "    frame = drone.get_frame_read().frame\n",
    "    frame_rgb = cv2.cvtColor(frame, cv2.COLOR_BGR2RGB)\n",
    "    detections = darknet.detect_image(net, class_names, frame_rgb, thresh=0.5)\n",
    "    \n",
    "    for label, confidence, bbox in detections:\n",
    "        if label == \"face\":  # 얼굴을 탐지했을 경우만 처리\n",
    "            x, y, w, h = darknet.bbox2points(bbox)\n",
    "            cv2.rectangle(frame, (x, y), (x+w, y+h), class_colors[label], 2)\n",
    "            \n",
    "            # 얼굴의 중심점 계산\n",
    "            center_x = x + w // 2\n",
    "            center_y = y + h // 2\n",
    "            \n",
    "            # 화면의 중심점 계산\n",
    "            frame_center_x = frame.shape[1] // 2\n",
    "            frame_center_y = frame.shape[0] // 2\n",
    "            \n",
    "            # 드론 조정\n",
    "            if center_x < frame_center_x - 30:  # 얼굴이 화면 중심 왼쪽에 있으면\n",
    "                drone.move_left(20)\n",
    "            elif center_x > frame_center_x + 30:  # 얼굴이 화면 중심 오른쪽에 있으면\n",
    "                drone.move_right(20)\n",
    "            \n",
    "            if center_y < frame_center_y - 30:  # 얼굴이 화면 중심 위쪽에 있으면\n",
    "                drone.move_up(20)\n",
    "            elif center_y > frame_center_y + 30:  # 얼굴이 화면 중심 아래쪽에 있으면\n",
    "                drone.move_down(20)\n",
    "    \n",
    "    if cv2.waitKey(1) & 0xFF == ord('q'):\n",
    "        break\n",
    "\n",
    "drone.land()\n",
    "drone.streamoff()\n",
    "cv2.destroyAllWindows()\n"
   ]
  }
 ],
 "metadata": {
  "kernelspec": {
   "display_name": "Python 3",
   "language": "python",
   "name": "python3"
  },
  "language_info": {
   "codemirror_mode": {
    "name": "ipython",
    "version": 3
   },
   "file_extension": ".py",
   "mimetype": "text/x-python",
   "name": "python",
   "nbconvert_exporter": "python",
   "pygments_lexer": "ipython3",
   "version": "3.9.6"
  }
 },
 "nbformat": 4,
 "nbformat_minor": 2
}
