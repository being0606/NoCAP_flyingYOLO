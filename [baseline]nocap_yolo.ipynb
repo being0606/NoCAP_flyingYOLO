{
 "cells": [
  {
   "cell_type": "code",
   "execution_count": 1,
   "metadata": {},
   "outputs": [
    {
     "name": "stdout",
     "output_type": "stream",
     "text": [
      "Cloning into 'cfg'...\n",
      "fatal: repository 'https://github.com/pjreddie/darknet/tree/master/cfg/' not found\n"
     ]
    }
   ],
   "source": [
    "!git clone https://github.com/pjreddie/darknet/tree/master/cfg"
   ]
  },
  {
   "cell_type": "code",
   "execution_count": null,
   "metadata": {},
   "outputs": [],
   "source": []
  },
  {
   "cell_type": "code",
   "execution_count": null,
   "metadata": {},
   "outputs": [],
   "source": [
    "from djitellopy import Tello\n",
    "import cv2\n",
    "import darknet\n",
    "import time\n",
    "\n",
    "# YOLO 설정\n",
    "net, class_names, class_colors = darknet.load_network(\n",
    "    \"your_cfg_file.cfg\",\n",
    "    \"your_data_file.data\",\n",
    "    \"your_weights.weights\",\n",
    "    batch_size=1\n",
    ")\n",
    "\n",
    "# Tello 드론 초기화 및 연결\n",
    "drone = Tello()\n",
    "drone.connect()\n",
    "\n",
    "# 드론 이륙\n",
    "drone.takeoff()\n",
    "time.sleep(2)\n",
    "\n",
    "# 비디오 스트림 시작\n",
    "drone.streamon()\n",
    "\n",
    "while True:\n",
    "    frame = drone.get_frame_read().frame\n",
    "    frame_rgb = cv2.cvtColor(frame, cv2.COLOR_BGR2RGB)\n",
    "    detections = darknet.detect_image(net, class_names, frame_rgb, thresh=0.5)\n",
    "    \n",
    "    for label, confidence, bbox in detections:\n",
    "        if label == \"face\":  # 얼굴을 탐지했을 경우만 처리\n",
    "            x, y, w, h = darknet.bbox2points(bbox)\n",
    "            cv2.rectangle(frame, (x, y), (x+w, y+h), class_colors[label], 2)\n",
    "            \n",
    "            # 얼굴의 중심점 계산\n",
    "            center_x = x + w // 2\n",
    "            center_y = y + h // 2\n",
    "            \n",
    "            # 화면의 중심점 계산\n",
    "            frame_center_x = frame.shape[1] // 2\n",
    "            frame_center_y = frame.shape[0] // 2\n",
    "            \n",
    "            # 드론 조정\n",
    "            if center_x < frame_center_x - 30:  # 얼굴이 화면 중심 왼쪽에 있으면\n",
    "                drone.move_left(20)\n",
    "            elif center_x > frame_center_x + 30:  # 얼굴이 화면 중심 오른쪽에 있으면\n",
    "                drone.move_right(20)\n",
    "            \n",
    "            if center_y < frame_center_y - 30:  # 얼굴이 화면 중심 위쪽에 있으면\n",
    "                drone.move_up(20)\n",
    "            elif center_y > frame_center_y + 30:  # 얼굴이 화면 중심 아래쪽에 있으면\n",
    "                drone.move_down(20)\n",
    "    \n",
    "    if cv2.waitKey(1) & 0xFF == ord('q'):\n",
    "        break\n",
    "\n",
    "drone.land()\n",
    "drone.streamoff()\n",
    "cv2.destroyAllWindows()\n"
   ]
  }
 ],
 "metadata": {
  "kernelspec": {
   "display_name": "Python 3",
   "language": "python",
   "name": "python3"
  },
  "language_info": {
   "codemirror_mode": {
    "name": "ipython",
    "version": 3
   },
   "file_extension": ".py",
   "mimetype": "text/x-python",
   "name": "python",
   "nbconvert_exporter": "python",
   "pygments_lexer": "ipython3",
   "version": "3.9.6"
  }
 },
 "nbformat": 4,
 "nbformat_minor": 2
}
