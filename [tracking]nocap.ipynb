{
 "cells": [
  {
   "cell_type": "code",
   "execution_count": 2,
   "metadata": {},
   "outputs": [],
   "source": [
    "# !pip install ultralytics\n",
    "# !pip install djitellopy\n",
    "# !pip install opencv-python"
   ]
  },
  {
   "cell_type": "markdown",
   "metadata": {},
   "source": []
  },
  {
   "cell_type": "code",
   "execution_count": 1,
   "metadata": {},
   "outputs": [
    {
     "name": "stdout",
     "output_type": "stream",
     "text": [
      "pygame 2.5.2 (SDL 2.28.3, Python 3.9.6)\n",
      "Hello from the pygame community. https://www.pygame.org/contribute.html\n"
     ]
    },
    {
     "name": "stderr",
     "output_type": "stream",
     "text": [
      "[INFO] tello.py - 129 - Tello instance was initialized. Host: '192.168.10.1'. Port: '8889'.\n",
      "[INFO] tello.py - 438 - Send command: 'command'\n",
      "[INFO] tello.py - 462 - Response command: 'ok'\n",
      "[INFO] tello.py - 438 - Send command: 'streamon'\n",
      "[INFO] tello.py - 462 - Response streamon: 'ok'\n"
     ]
    },
    {
     "name": "stdout",
     "output_type": "stream",
     "text": [
      "32\n"
     ]
    },
    {
     "name": "stderr",
     "output_type": "stream",
     "text": [
      "non-existing PPS 0 referenced\n",
      "non-existing PPS 0 referenced\n",
      "decode_slice_header error\n",
      "no frame!\n",
      "non-existing PPS 0 referenced\n",
      "non-existing PPS 0 referenced\n",
      "decode_slice_header error\n",
      "no frame!\n",
      "non-existing PPS 0 referenced\n",
      "non-existing PPS 0 referenced\n",
      "decode_slice_header error\n",
      "no frame!\n",
      "non-existing PPS 0 referenced\n",
      "non-existing PPS 0 referenced\n",
      "decode_slice_header error\n",
      "no frame!\n",
      "non-existing PPS 0 referenced\n",
      "non-existing PPS 0 referenced\n",
      "decode_slice_header error\n",
      "no frame!\n",
      "non-existing PPS 0 referenced\n",
      "non-existing PPS 0 referenced\n",
      "decode_slice_header error\n",
      "no frame!\n",
      "non-existing PPS 0 referenced\n",
      "non-existing PPS 0 referenced\n",
      "decode_slice_header error\n",
      "no frame!\n",
      "non-existing PPS 0 referenced\n",
      "non-existing PPS 0 referenced\n",
      "decode_slice_header error\n",
      "no frame!\n",
      "non-existing PPS 0 referenced\n",
      "non-existing PPS 0 referenced\n",
      "decode_slice_header error\n",
      "no frame!\n",
      "non-existing PPS 0 referenced\n",
      "non-existing PPS 0 referenced\n",
      "decode_slice_header error\n",
      "no frame!\n",
      "non-existing PPS 0 referenced\n",
      "non-existing PPS 0 referenced\n",
      "decode_slice_header error\n",
      "no frame!\n",
      "non-existing PPS 0 referenced\n",
      "non-existing PPS 0 referenced\n",
      "decode_slice_header error\n",
      "no frame!\n",
      "non-existing PPS 0 referenced\n",
      "non-existing PPS 0 referenced\n",
      "decode_slice_header error\n",
      "no frame!\n",
      "non-existing PPS 0 referenced\n",
      "non-existing PPS 0 referenced\n",
      "decode_slice_header error\n",
      "no frame!\n",
      "2023-11-03 21:11:53.229 Python[40505:515300] TSM AdjustCapsLockLEDForKeyTransitionHandling - _ISSetPhysicalKeyboardCapsLockLED Inhibit\n",
      "[INFO] tello.py - 471 - Send command (no response expected): 'rc 0 0 0 0'\n"
     ]
    },
    {
     "name": "stdout",
     "output_type": "stream",
     "text": [
      "K_o\n",
      "K_p\n",
      "K_a\n",
      "K_d\n",
      "K_w\n",
      "K_s\n",
      "K_UP\n",
      "K_DOWN\n",
      "K_e\n",
      "K_r\n",
      "K_j\n",
      "K_u\n",
      "K_o\n",
      "K_p\n",
      "K_a\n",
      "K_d\n",
      "K_w\n"
     ]
    },
    {
     "name": "stderr",
     "output_type": "stream",
     "text": [
      "2023-11-03 21:11:53.340 Python[40505:515300] WARNING: Secure coding is automatically enabled for restorable state! However, not on all supported macOS versions of this application. Opt-in to secure coding explicitly by implementing NSApplicationDelegate.applicationSupportsSecureRestorableState:.\n",
      "[INFO] tello.py - 471 - Send command (no response expected): 'rc 0 0 0 0'\n",
      "error while decoding MB 21 41, bytestream -6\n"
     ]
    },
    {
     "name": "stdout",
     "output_type": "stream",
     "text": [
      "K_s\n",
      "K_UP\n",
      "K_DOWN\n",
      "K_e\n",
      "K_r\n",
      "K_j\n",
      "K_u\n",
      "K_o\n",
      "K_p\n",
      "K_a\n",
      "K_d\n",
      "K_w\n",
      "K_s\n"
     ]
    },
    {
     "name": "stderr",
     "output_type": "stream",
     "text": [
      "left block unavailable for requested intra mode\n",
      "error while decoding MB 0 37, bytestream 5044\n",
      "[INFO] tello.py - 471 - Send command (no response expected): 'rc 0 0 0 0'\n",
      "error while decoding MB 36 40, bytestream -5\n",
      "error while decoding MB 47 44, bytestream -11\n"
     ]
    },
    {
     "name": "stdout",
     "output_type": "stream",
     "text": [
      "K_UP\n",
      "K_DOWN\n",
      "K_e\n",
      "K_r\n",
      "K_j\n",
      "K_u\n",
      "K_o\n",
      "K_p\n",
      "K_a\n",
      "K_d\n",
      "K_w\n",
      "K_s\n"
     ]
    },
    {
     "name": "stderr",
     "output_type": "stream",
     "text": [
      "[INFO] tello.py - 471 - Send command (no response expected): 'rc 0 0 0 0'\n"
     ]
    },
    {
     "name": "stdout",
     "output_type": "stream",
     "text": [
      "K_UP\n",
      "K_DOWN\n",
      "K_e\n",
      "K_r\n",
      "K_j\n",
      "K_u\n",
      "K_o\n",
      "K_p\n",
      "K_a\n",
      "K_d\n",
      "K_w\n",
      "K_s\n"
     ]
    },
    {
     "name": "stderr",
     "output_type": "stream",
     "text": [
      "[INFO] tello.py - 471 - Send command (no response expected): 'rc 0 0 0 0'\n"
     ]
    },
    {
     "name": "stdout",
     "output_type": "stream",
     "text": [
      "K_UP\n",
      "K_DOWN\n",
      "K_e\n",
      "K_r\n",
      "K_j\n",
      "K_u\n",
      "K_o\n",
      "K_p\n",
      "K_a\n",
      "K_d\n",
      "K_w\n",
      "K_s\n",
      "K_UP\n"
     ]
    },
    {
     "name": "stderr",
     "output_type": "stream",
     "text": [
      "[INFO] tello.py - 471 - Send command (no response expected): 'rc 0 0 0 0'\n"
     ]
    },
    {
     "name": "stdout",
     "output_type": "stream",
     "text": [
      "K_DOWN\n",
      "K_e\n",
      "K_r\n",
      "K_j\n",
      "K_u\n",
      "K_o\n",
      "K_p\n",
      "K_a\n",
      "K_d\n",
      "K_w\n",
      "K_s\n",
      "K_UP\n"
     ]
    },
    {
     "name": "stderr",
     "output_type": "stream",
     "text": [
      "[INFO] tello.py - 471 - Send command (no response expected): 'rc 0 0 0 0'\n"
     ]
    },
    {
     "name": "stdout",
     "output_type": "stream",
     "text": [
      "K_DOWN\n",
      "K_e\n",
      "K_r\n",
      "K_j\n",
      "K_u\n",
      "K_o\n",
      "K_p\n",
      "K_a\n",
      "K_d\n",
      "K_w\n",
      "K_s\n",
      "K_UP\n"
     ]
    },
    {
     "name": "stderr",
     "output_type": "stream",
     "text": [
      "[INFO] tello.py - 438 - Send command: 'land'\n"
     ]
    },
    {
     "name": "stdout",
     "output_type": "stream",
     "text": [
      "K_DOWN\n",
      "K_e\n",
      "K_r\n",
      "K_j\n"
     ]
    },
    {
     "name": "stderr",
     "output_type": "stream",
     "text": [
      "[INFO] tello.py - 462 - Response land: 'error Auto land'\n",
      "[INFO] tello.py - 438 - Send command: 'land'\n",
      "error while decoding MB 53 41, bytestream -6\n",
      "error while decoding MB 54 42, bytestream -6\n",
      "error while decoding MB 26 44, bytestream -6\n",
      "error while decoding MB 33 44, bytestream -6\n",
      "error while decoding MB 22 43, bytestream -6\n",
      "error while decoding MB 27 43, bytestream -9\n",
      "[WARNING] tello.py - 448 - Aborting command 'land'. Did not receive a response after 7 seconds\n",
      "[INFO] tello.py - 438 - Send command: 'land'\n",
      "error while decoding MB 49 30, bytestream -5\n",
      "[INFO] tello.py - 462 - Response land: 'ok'\n",
      "[INFO] tello.py - 471 - Send command (no response expected): 'rc 0 0 0 0'\n",
      "[INFO] tello.py - 471 - Send command (no response expected): 'rc 0 0 0 0'\n",
      "[INFO] tello.py - 471 - Send command (no response expected): 'rc 0 0 0 0'\n"
     ]
    },
    {
     "name": "stdout",
     "output_type": "stream",
     "text": [
      "K_u\n",
      "K_o\n",
      "K_p\n",
      "K_a\n",
      "K_d\n",
      "K_w\n",
      "K_s\n",
      "K_UP\n",
      "K_DOWN\n",
      "K_e\n",
      "K_r\n",
      "K_j\n",
      "K_u\n",
      "K_o\n",
      "K_p\n",
      "K_a\n",
      "K_d\n",
      "K_w\n",
      "K_s\n",
      "K_UP\n",
      "K_DOWN\n",
      "K_e\n",
      "K_r\n",
      "K_j\n",
      "K_u\n"
     ]
    },
    {
     "name": "stderr",
     "output_type": "stream",
     "text": [
      "[INFO] tello.py - 471 - Send command (no response expected): 'rc 0 0 0 0'\n",
      "[INFO] tello.py - 471 - Send command (no response expected): 'rc 0 0 0 0'\n"
     ]
    },
    {
     "name": "stdout",
     "output_type": "stream",
     "text": [
      "K_o\n",
      "K_p\n",
      "K_a\n",
      "K_d\n",
      "K_w\n",
      "K_s\n",
      "K_UP\n",
      "K_DOWN\n",
      "K_e\n",
      "K_r\n",
      "K_j\n",
      "K_u\n",
      "K_o\n",
      "K_p\n",
      "K_a\n",
      "K_d\n",
      "K_w\n",
      "K_s\n",
      "K_UP\n",
      "K_DOWN\n",
      "K_e\n",
      "K_r\n",
      "K_j\n",
      "K_u\n",
      "K_o\n",
      "K_p\n",
      "K_a\n",
      "K_d\n",
      "K_w\n",
      "K_s\n",
      "K_UP\n"
     ]
    },
    {
     "name": "stderr",
     "output_type": "stream",
     "text": [
      "[INFO] tello.py - 471 - Send command (no response expected): 'rc 0 0 0 0'\n",
      "[INFO] tello.py - 471 - Send command (no response expected): 'rc 0 0 0 0'\n"
     ]
    },
    {
     "name": "stdout",
     "output_type": "stream",
     "text": [
      "K_DOWN\n",
      "K_e\n",
      "K_r\n",
      "K_j\n",
      "K_u\n",
      "K_o\n",
      "K_p\n",
      "K_a\n",
      "K_d\n",
      "K_w\n",
      "K_s\n",
      "K_UP\n",
      "K_DOWN\n",
      "K_e\n",
      "K_r\n",
      "K_j\n",
      "K_u\n"
     ]
    },
    {
     "name": "stderr",
     "output_type": "stream",
     "text": [
      "[INFO] tello.py - 471 - Send command (no response expected): 'rc 0 0 0 0'\n",
      "[INFO] tello.py - 471 - Send command (no response expected): 'rc 0 0 0 0'\n"
     ]
    },
    {
     "name": "stdout",
     "output_type": "stream",
     "text": [
      "K_o\n",
      "K_p\n",
      "K_a\n",
      "K_d\n",
      "K_w\n",
      "K_s\n",
      "K_UP\n",
      "K_DOWN\n",
      "K_e\n",
      "K_r\n",
      "K_j\n",
      "K_u\n",
      "K_o\n",
      "K_p\n",
      "K_a\n",
      "K_d\n",
      "K_w\n",
      "K_s\n",
      "K_UP\n",
      "K_DOWN\n",
      "K_e\n",
      "K_r\n",
      "K_j\n",
      "K_u\n"
     ]
    },
    {
     "name": "stderr",
     "output_type": "stream",
     "text": [
      "[INFO] tello.py - 471 - Send command (no response expected): 'rc 0 0 0 0'\n",
      "error while decoding MB 52 39, bytestream -5\n",
      "[INFO] tello.py - 471 - Send command (no response expected): 'rc 0 0 0 0'\n"
     ]
    },
    {
     "name": "stdout",
     "output_type": "stream",
     "text": [
      "K_o\n",
      "K_p\n",
      "K_a\n",
      "K_d\n",
      "K_w\n",
      "K_s\n",
      "K_UP\n",
      "K_DOWN\n",
      "K_e\n",
      "K_r\n",
      "K_j\n",
      "K_u\n",
      "K_o\n",
      "K_p\n",
      "K_a\n",
      "K_d\n",
      "K_w\n",
      "K_s\n",
      "K_UP\n",
      "K_DOWN\n",
      "K_e\n",
      "K_r\n",
      "K_j\n",
      "K_u\n"
     ]
    },
    {
     "name": "stderr",
     "output_type": "stream",
     "text": [
      "[INFO] tello.py - 471 - Send command (no response expected): 'rc 0 0 0 0'\n",
      "[INFO] tello.py - 471 - Send command (no response expected): 'rc 0 0 0 0'\n"
     ]
    },
    {
     "name": "stdout",
     "output_type": "stream",
     "text": [
      "K_o\n",
      "K_p\n",
      "K_a\n",
      "K_d\n",
      "K_w\n",
      "K_s\n",
      "K_UP\n",
      "K_DOWN\n",
      "K_e\n",
      "K_r\n",
      "K_j\n",
      "K_u\n",
      "K_o\n",
      "K_p\n",
      "K_a\n",
      "K_d\n",
      "K_w\n",
      "K_s\n",
      "K_UP\n",
      "K_DOWN\n",
      "K_e\n",
      "K_r\n",
      "K_j\n",
      "K_u\n"
     ]
    },
    {
     "name": "stderr",
     "output_type": "stream",
     "text": [
      "[INFO] tello.py - 471 - Send command (no response expected): 'rc 0 0 0 0'\n",
      "[INFO] tello.py - 471 - Send command (no response expected): 'rc 0 0 0 0'\n"
     ]
    },
    {
     "name": "stdout",
     "output_type": "stream",
     "text": [
      "K_o\n",
      "K_p\n",
      "K_a\n",
      "K_d\n",
      "K_w\n",
      "K_s\n",
      "K_UP\n",
      "K_DOWN\n",
      "K_e\n",
      "K_r\n",
      "K_j\n",
      "K_u\n",
      "K_o\n",
      "K_p\n",
      "K_a\n",
      "K_d\n",
      "K_w\n",
      "K_s\n",
      "K_UP\n",
      "K_DOWN\n",
      "K_e\n",
      "K_r\n",
      "K_j\n",
      "K_u\n"
     ]
    },
    {
     "name": "stderr",
     "output_type": "stream",
     "text": [
      "[INFO] tello.py - 471 - Send command (no response expected): 'rc 0 0 0 0'\n",
      "[INFO] tello.py - 471 - Send command (no response expected): 'rc 0 0 0 0'\n"
     ]
    },
    {
     "name": "stdout",
     "output_type": "stream",
     "text": [
      "K_o\n",
      "K_p\n",
      "K_a\n",
      "K_d\n",
      "K_w\n",
      "K_s\n",
      "K_UP\n",
      "K_DOWN\n",
      "K_e\n",
      "K_r\n",
      "K_j\n",
      "K_u\n",
      "K_o\n",
      "K_p\n",
      "K_a\n",
      "K_d\n",
      "K_w\n",
      "K_s\n",
      "K_UP\n",
      "K_DOWN\n",
      "K_e\n",
      "K_r\n",
      "K_j\n",
      "K_u\n"
     ]
    },
    {
     "name": "stderr",
     "output_type": "stream",
     "text": [
      "[INFO] tello.py - 471 - Send command (no response expected): 'rc 0 0 0 0'\n",
      "[INFO] tello.py - 471 - Send command (no response expected): 'rc 0 0 0 0'\n"
     ]
    },
    {
     "name": "stdout",
     "output_type": "stream",
     "text": [
      "K_o\n",
      "K_p\n",
      "K_a\n",
      "K_d\n",
      "K_w\n",
      "K_s\n",
      "K_UP\n",
      "K_DOWN\n",
      "K_e\n",
      "K_r\n",
      "K_j\n",
      "K_u\n",
      "K_o\n",
      "K_p\n",
      "K_a\n",
      "K_d\n",
      "K_w\n",
      "K_s\n",
      "K_UP\n",
      "K_DOWN\n",
      "K_e\n",
      "K_r\n",
      "K_j\n",
      "K_u\n"
     ]
    },
    {
     "name": "stderr",
     "output_type": "stream",
     "text": [
      "[INFO] tello.py - 471 - Send command (no response expected): 'rc 0 0 0 0'\n",
      "[INFO] tello.py - 471 - Send command (no response expected): 'rc 0 0 0 0'\n"
     ]
    },
    {
     "name": "stdout",
     "output_type": "stream",
     "text": [
      "K_o\n",
      "K_p\n",
      "K_a\n",
      "K_d\n",
      "K_w\n",
      "K_s\n",
      "K_UP\n",
      "K_DOWN\n",
      "K_e\n",
      "K_r\n",
      "K_j\n",
      "K_u\n",
      "K_o\n",
      "K_p\n",
      "K_a\n",
      "K_d\n",
      "K_w\n",
      "K_s\n",
      "K_UP\n",
      "K_DOWN\n",
      "K_e\n",
      "K_r\n",
      "K_j\n",
      "K_u\n"
     ]
    },
    {
     "name": "stderr",
     "output_type": "stream",
     "text": [
      "[INFO] tello.py - 471 - Send command (no response expected): 'rc 0 0 0 0'\n",
      "[INFO] tello.py - 471 - Send command (no response expected): 'rc 0 0 0 0'\n"
     ]
    },
    {
     "name": "stdout",
     "output_type": "stream",
     "text": [
      "K_o\n",
      "K_p\n",
      "K_a\n",
      "K_d\n",
      "K_w\n",
      "K_s\n",
      "K_UP\n",
      "K_DOWN\n",
      "K_e\n",
      "K_r\n",
      "K_j\n",
      "K_u\n",
      "K_o\n",
      "K_p\n",
      "K_a\n",
      "K_d\n",
      "K_w\n",
      "K_s\n",
      "K_UP\n",
      "K_DOWN\n",
      "K_e\n",
      "K_r\n",
      "K_j\n",
      "K_u\n"
     ]
    },
    {
     "name": "stderr",
     "output_type": "stream",
     "text": [
      "[INFO] tello.py - 471 - Send command (no response expected): 'rc 0 0 0 0'\n",
      "[INFO] tello.py - 471 - Send command (no response expected): 'rc 0 0 0 0'\n"
     ]
    },
    {
     "name": "stdout",
     "output_type": "stream",
     "text": [
      "K_o\n",
      "K_p\n",
      "K_a\n",
      "K_d\n",
      "K_w\n",
      "K_s\n",
      "K_UP\n",
      "K_DOWN\n",
      "K_e\n",
      "K_r\n",
      "K_j\n",
      "K_u\n",
      "K_o\n",
      "K_p\n",
      "K_a\n",
      "K_d\n",
      "K_w\n",
      "K_s\n",
      "K_UP\n",
      "K_DOWN\n",
      "K_e\n",
      "K_r\n",
      "K_j\n",
      "K_u\n"
     ]
    },
    {
     "name": "stderr",
     "output_type": "stream",
     "text": [
      "[INFO] tello.py - 471 - Send command (no response expected): 'rc 0 0 0 0'\n",
      "[INFO] tello.py - 471 - Send command (no response expected): 'rc 0 0 0 0'\n"
     ]
    },
    {
     "name": "stdout",
     "output_type": "stream",
     "text": [
      "K_o\n",
      "K_p\n",
      "K_a\n",
      "K_d\n",
      "K_w\n",
      "K_s\n",
      "K_UP\n",
      "K_DOWN\n",
      "K_e\n",
      "K_r\n",
      "K_j\n",
      "K_u\n",
      "K_o\n",
      "K_p\n",
      "K_a\n",
      "K_d\n",
      "K_w\n",
      "K_s\n",
      "K_UP\n",
      "K_DOWN\n",
      "K_e\n",
      "K_r\n",
      "K_j\n",
      "K_u\n"
     ]
    },
    {
     "name": "stderr",
     "output_type": "stream",
     "text": [
      "[INFO] tello.py - 471 - Send command (no response expected): 'rc 0 0 0 0'\n",
      "[INFO] tello.py - 471 - Send command (no response expected): 'rc 0 0 0 0'\n"
     ]
    },
    {
     "name": "stdout",
     "output_type": "stream",
     "text": [
      "K_o\n",
      "K_p\n",
      "K_a\n",
      "K_d\n",
      "K_w\n",
      "K_s\n",
      "K_UP\n",
      "K_DOWN\n",
      "K_e\n",
      "K_r\n",
      "K_j\n",
      "K_u\n",
      "K_o\n",
      "K_p\n",
      "K_a\n",
      "K_d\n",
      "K_w\n",
      "K_s\n",
      "K_UP\n",
      "K_DOWN\n",
      "K_e\n",
      "K_r\n",
      "K_j\n",
      "K_u\n"
     ]
    },
    {
     "name": "stderr",
     "output_type": "stream",
     "text": [
      "[INFO] tello.py - 471 - Send command (no response expected): 'rc 0 0 0 0'\n",
      "[INFO] tello.py - 471 - Send command (no response expected): 'rc 0 0 0 0'\n"
     ]
    },
    {
     "name": "stdout",
     "output_type": "stream",
     "text": [
      "K_o\n",
      "K_p\n",
      "K_a\n",
      "K_d\n",
      "K_w\n",
      "K_s\n",
      "K_UP\n",
      "K_DOWN\n",
      "K_e\n",
      "K_r\n",
      "K_j\n",
      "K_u\n",
      "K_o\n",
      "K_p\n",
      "K_a\n",
      "K_d\n",
      "K_w\n",
      "K_s\n",
      "K_UP\n",
      "K_DOWN\n",
      "K_e\n",
      "K_r\n",
      "K_j\n",
      "K_u\n"
     ]
    },
    {
     "name": "stderr",
     "output_type": "stream",
     "text": [
      "[INFO] tello.py - 471 - Send command (no response expected): 'rc 0 0 0 0'\n",
      "[INFO] tello.py - 471 - Send command (no response expected): 'rc 0 0 0 0'\n"
     ]
    },
    {
     "name": "stdout",
     "output_type": "stream",
     "text": [
      "K_o\n",
      "K_p\n",
      "K_a\n",
      "K_d\n",
      "K_w\n",
      "K_s\n",
      "K_UP\n",
      "K_DOWN\n",
      "K_e\n",
      "K_r\n",
      "K_j\n",
      "K_u\n",
      "K_o\n",
      "K_p\n",
      "K_a\n",
      "K_d\n",
      "K_w\n",
      "K_s\n",
      "K_UP\n",
      "K_DOWN\n",
      "K_e\n",
      "K_r\n",
      "K_j\n",
      "K_u\n"
     ]
    },
    {
     "name": "stderr",
     "output_type": "stream",
     "text": [
      "[INFO] tello.py - 471 - Send command (no response expected): 'rc 0 0 0 0'\n",
      "[INFO] tello.py - 471 - Send command (no response expected): 'rc 0 0 0 0'\n"
     ]
    },
    {
     "name": "stdout",
     "output_type": "stream",
     "text": [
      "K_o\n",
      "K_p\n",
      "K_a\n",
      "K_d\n",
      "K_w\n",
      "K_s\n",
      "K_UP\n",
      "K_DOWN\n",
      "K_e\n",
      "K_r\n",
      "K_j\n",
      "K_u\n",
      "K_o\n",
      "K_p\n",
      "K_a\n",
      "K_d\n",
      "K_w\n",
      "K_s\n",
      "K_UP\n",
      "K_DOWN\n",
      "K_e\n",
      "K_r\n",
      "K_j\n",
      "K_u\n"
     ]
    },
    {
     "name": "stderr",
     "output_type": "stream",
     "text": [
      "[INFO] tello.py - 471 - Send command (no response expected): 'rc 0 0 0 0'\n",
      "[INFO] tello.py - 471 - Send command (no response expected): 'rc 0 0 0 0'\n"
     ]
    },
    {
     "name": "stdout",
     "output_type": "stream",
     "text": [
      "K_o\n",
      "K_p\n",
      "K_a\n",
      "K_d\n",
      "K_w\n",
      "K_s\n",
      "K_UP\n",
      "K_DOWN\n",
      "K_e\n",
      "K_r\n",
      "K_j\n",
      "K_u\n",
      "K_o\n",
      "K_p\n",
      "K_a\n",
      "K_d\n",
      "K_w\n",
      "K_s\n",
      "K_UP\n",
      "K_DOWN\n",
      "K_e\n",
      "K_r\n",
      "K_j\n",
      "K_u\n"
     ]
    },
    {
     "name": "stderr",
     "output_type": "stream",
     "text": [
      "[INFO] tello.py - 471 - Send command (no response expected): 'rc 0 0 0 0'\n",
      "[INFO] tello.py - 471 - Send command (no response expected): 'rc 0 0 0 0'\n"
     ]
    },
    {
     "name": "stdout",
     "output_type": "stream",
     "text": [
      "K_o\n",
      "K_p\n",
      "K_a\n",
      "K_d\n",
      "K_w\n",
      "K_s\n",
      "K_UP\n",
      "K_DOWN\n",
      "K_e\n",
      "K_r\n",
      "K_j\n",
      "K_u\n",
      "K_o\n",
      "K_p\n",
      "K_a\n",
      "K_d\n",
      "K_w\n",
      "K_s\n",
      "K_UP\n",
      "K_DOWN\n",
      "K_e\n",
      "K_r\n",
      "K_j\n",
      "K_u\n"
     ]
    },
    {
     "name": "stderr",
     "output_type": "stream",
     "text": [
      "[INFO] tello.py - 471 - Send command (no response expected): 'rc 0 0 0 0'\n",
      "[INFO] tello.py - 471 - Send command (no response expected): 'rc 0 0 0 0'\n"
     ]
    },
    {
     "name": "stdout",
     "output_type": "stream",
     "text": [
      "K_o\n",
      "K_p\n",
      "K_a\n",
      "K_d\n",
      "K_w\n",
      "K_s\n",
      "K_UP\n",
      "K_DOWN\n",
      "K_e\n",
      "K_r\n",
      "K_j\n",
      "K_u\n",
      "K_o\n",
      "K_p\n",
      "K_a\n",
      "K_d\n",
      "K_w\n",
      "K_s\n",
      "K_UP\n",
      "K_DOWN\n",
      "K_e\n",
      "K_r\n",
      "K_j\n",
      "K_u\n"
     ]
    },
    {
     "name": "stderr",
     "output_type": "stream",
     "text": [
      "[INFO] tello.py - 471 - Send command (no response expected): 'rc 0 0 0 0'\n",
      "[INFO] tello.py - 471 - Send command (no response expected): 'rc 0 0 0 0'\n"
     ]
    },
    {
     "name": "stdout",
     "output_type": "stream",
     "text": [
      "K_o\n",
      "K_p\n",
      "K_a\n",
      "K_d\n",
      "K_w\n",
      "K_s\n",
      "K_UP\n",
      "K_DOWN\n",
      "K_e\n",
      "K_r\n",
      "K_j\n",
      "K_u\n",
      "K_o\n",
      "K_p\n",
      "K_a\n",
      "K_d\n",
      "K_w\n",
      "K_s\n",
      "K_UP\n",
      "K_DOWN\n",
      "K_e\n",
      "K_r\n",
      "K_j\n",
      "K_u\n"
     ]
    },
    {
     "name": "stderr",
     "output_type": "stream",
     "text": [
      "[INFO] tello.py - 471 - Send command (no response expected): 'rc 0 0 0 0'\n",
      "[INFO] tello.py - 471 - Send command (no response expected): 'rc 0 0 0 0'\n"
     ]
    },
    {
     "name": "stdout",
     "output_type": "stream",
     "text": [
      "K_o\n",
      "K_p\n",
      "K_a\n",
      "K_d\n",
      "K_w\n",
      "K_s\n",
      "K_UP\n",
      "K_DOWN\n",
      "K_e\n",
      "K_r\n",
      "K_j\n",
      "K_u\n",
      "K_o\n",
      "K_p\n",
      "K_a\n",
      "K_d\n",
      "K_w\n",
      "K_s\n",
      "K_UP\n",
      "K_DOWN\n",
      "K_e\n",
      "K_r\n",
      "K_j\n",
      "K_u\n"
     ]
    },
    {
     "name": "stderr",
     "output_type": "stream",
     "text": [
      "error while decoding MB 49 44, bytestream -8\n",
      "[INFO] tello.py - 471 - Send command (no response expected): 'rc 0 0 0 0'\n",
      "error while decoding MB 5 39, bytestream -10\n",
      "[INFO] tello.py - 471 - Send command (no response expected): 'rc 0 0 0 0'\n"
     ]
    },
    {
     "name": "stdout",
     "output_type": "stream",
     "text": [
      "K_o\n",
      "K_p\n",
      "K_a\n",
      "K_d\n",
      "K_w\n",
      "K_s\n",
      "K_UP\n",
      "K_DOWN\n",
      "K_e\n",
      "K_r\n",
      "K_j\n",
      "K_u\n",
      "K_o\n",
      "K_p\n",
      "K_a\n",
      "K_d\n",
      "K_w\n",
      "K_s\n",
      "K_UP\n",
      "K_DOWN\n",
      "K_e\n",
      "K_r\n",
      "K_j\n",
      "K_u\n"
     ]
    },
    {
     "name": "stderr",
     "output_type": "stream",
     "text": [
      "[INFO] tello.py - 471 - Send command (no response expected): 'rc 0 0 0 0'\n",
      "[INFO] tello.py - 471 - Send command (no response expected): 'rc 0 0 0 0'\n"
     ]
    },
    {
     "name": "stdout",
     "output_type": "stream",
     "text": [
      "K_o\n",
      "K_p\n",
      "K_a\n",
      "K_d\n",
      "K_w\n",
      "K_s\n",
      "K_UP\n",
      "K_DOWN\n",
      "K_e\n",
      "K_r\n",
      "K_j\n",
      "K_u\n",
      "K_o\n",
      "K_p\n",
      "K_a\n",
      "K_d\n",
      "K_w\n",
      "K_s\n",
      "K_UP\n",
      "K_DOWN\n",
      "K_e\n",
      "K_r\n",
      "K_j\n",
      "K_u\n"
     ]
    },
    {
     "name": "stderr",
     "output_type": "stream",
     "text": [
      "[INFO] tello.py - 471 - Send command (no response expected): 'rc 0 0 0 0'\n",
      "[INFO] tello.py - 471 - Send command (no response expected): 'rc 0 0 0 0'\n"
     ]
    },
    {
     "name": "stdout",
     "output_type": "stream",
     "text": [
      "K_o\n",
      "K_p\n",
      "K_a\n",
      "K_d\n",
      "K_w\n",
      "K_s\n",
      "K_UP\n",
      "K_DOWN\n",
      "K_e\n",
      "K_r\n",
      "K_j\n",
      "K_u\n",
      "K_o\n",
      "K_p\n",
      "K_a\n",
      "K_d\n",
      "K_w\n",
      "K_s\n",
      "K_UP\n",
      "K_DOWN\n",
      "K_e\n",
      "K_r\n",
      "K_j\n",
      "K_u\n"
     ]
    },
    {
     "name": "stderr",
     "output_type": "stream",
     "text": [
      "[INFO] tello.py - 471 - Send command (no response expected): 'rc 0 0 0 0'\n",
      "[INFO] tello.py - 471 - Send command (no response expected): 'rc 0 0 0 0'\n"
     ]
    },
    {
     "name": "stdout",
     "output_type": "stream",
     "text": [
      "K_o\n",
      "K_p\n",
      "K_a\n",
      "K_d\n",
      "K_w\n",
      "K_s\n",
      "K_UP\n",
      "K_DOWN\n",
      "K_e\n",
      "K_r\n",
      "K_j\n",
      "K_u\n",
      "K_o\n",
      "K_p\n",
      "K_a\n",
      "K_d\n",
      "K_w\n",
      "K_s\n",
      "K_UP\n",
      "K_DOWN\n",
      "K_e\n",
      "K_r\n",
      "K_j\n",
      "K_u\n"
     ]
    },
    {
     "name": "stderr",
     "output_type": "stream",
     "text": [
      "[INFO] tello.py - 471 - Send command (no response expected): 'rc 0 0 0 0'\n",
      "[INFO] tello.py - 471 - Send command (no response expected): 'rc 0 0 0 0'\n"
     ]
    },
    {
     "name": "stdout",
     "output_type": "stream",
     "text": [
      "K_o\n",
      "K_p\n",
      "K_a\n",
      "K_d\n",
      "K_w\n",
      "K_s\n",
      "K_UP\n",
      "K_DOWN\n",
      "K_e\n",
      "K_r\n",
      "K_j\n",
      "K_u\n",
      "K_o\n",
      "K_p\n",
      "K_a\n",
      "K_d\n",
      "K_w\n",
      "K_s\n",
      "K_UP\n",
      "K_DOWN\n",
      "K_e\n",
      "K_r\n",
      "K_j\n",
      "K_u\n"
     ]
    },
    {
     "name": "stderr",
     "output_type": "stream",
     "text": [
      "[INFO] tello.py - 471 - Send command (no response expected): 'rc 0 0 0 0'\n",
      "[INFO] tello.py - 471 - Send command (no response expected): 'rc 0 0 0 0'\n"
     ]
    },
    {
     "name": "stdout",
     "output_type": "stream",
     "text": [
      "K_o\n",
      "K_p\n",
      "K_a\n",
      "K_d\n",
      "K_w\n",
      "K_s\n",
      "K_UP\n",
      "K_DOWN\n",
      "K_e\n",
      "K_r\n",
      "K_j\n",
      "K_u\n",
      "K_o\n",
      "K_p\n",
      "K_a\n",
      "K_d\n",
      "K_w\n",
      "K_s\n",
      "K_UP\n",
      "K_DOWN\n",
      "K_e\n",
      "K_r\n",
      "K_j\n",
      "K_u\n"
     ]
    },
    {
     "name": "stderr",
     "output_type": "stream",
     "text": [
      "[INFO] tello.py - 471 - Send command (no response expected): 'rc 0 0 0 0'\n",
      "[INFO] tello.py - 471 - Send command (no response expected): 'rc 0 0 0 0'\n"
     ]
    },
    {
     "name": "stdout",
     "output_type": "stream",
     "text": [
      "K_o\n",
      "K_p\n",
      "K_a\n",
      "K_d\n",
      "K_w\n",
      "K_s\n",
      "K_UP\n",
      "K_DOWN\n",
      "K_e\n",
      "K_r\n",
      "K_j\n",
      "K_u\n",
      "K_o\n",
      "K_p\n",
      "K_a\n",
      "K_d\n",
      "K_w\n",
      "K_s\n",
      "K_UP\n",
      "K_DOWN\n",
      "K_e\n",
      "K_r\n",
      "K_j\n",
      "K_u\n"
     ]
    },
    {
     "name": "stderr",
     "output_type": "stream",
     "text": [
      "[INFO] tello.py - 471 - Send command (no response expected): 'rc 0 0 0 0'\n",
      "[INFO] tello.py - 471 - Send command (no response expected): 'rc 0 0 0 0'\n"
     ]
    },
    {
     "name": "stdout",
     "output_type": "stream",
     "text": [
      "K_o\n",
      "K_p\n",
      "K_a\n",
      "K_d\n",
      "K_w\n",
      "K_s\n",
      "K_UP\n",
      "K_DOWN\n",
      "K_e\n",
      "K_r\n",
      "K_j\n",
      "K_u\n",
      "K_o\n",
      "K_p\n",
      "K_a\n",
      "K_d\n",
      "K_w\n",
      "K_s\n",
      "K_UP\n",
      "K_DOWN\n",
      "K_e\n",
      "K_r\n",
      "K_j\n",
      "K_u\n"
     ]
    },
    {
     "name": "stderr",
     "output_type": "stream",
     "text": [
      "error while decoding MB 10 40, bytestream -6\n",
      "[INFO] tello.py - 471 - Send command (no response expected): 'rc 0 0 0 0'\n",
      "[INFO] tello.py - 471 - Send command (no response expected): 'rc 0 0 0 0'\n"
     ]
    },
    {
     "name": "stdout",
     "output_type": "stream",
     "text": [
      "K_o\n",
      "K_p\n",
      "K_a\n",
      "K_d\n",
      "K_w\n",
      "K_s\n",
      "K_UP\n",
      "K_DOWN\n",
      "K_e\n",
      "K_r\n",
      "K_j\n",
      "K_u\n",
      "K_o\n",
      "K_p\n",
      "K_a\n",
      "K_d\n",
      "K_w\n",
      "K_s\n",
      "K_UP\n",
      "K_DOWN\n",
      "K_e\n",
      "K_r\n",
      "K_j\n",
      "K_u\n"
     ]
    },
    {
     "name": "stderr",
     "output_type": "stream",
     "text": [
      "[INFO] tello.py - 471 - Send command (no response expected): 'rc 0 0 0 0'\n",
      "[INFO] tello.py - 471 - Send command (no response expected): 'rc 0 0 0 0'\n"
     ]
    },
    {
     "name": "stdout",
     "output_type": "stream",
     "text": [
      "K_o\n",
      "K_p\n",
      "K_a\n",
      "K_d\n",
      "K_w\n",
      "K_s\n",
      "K_UP\n",
      "K_DOWN\n",
      "K_e\n",
      "K_r\n",
      "K_j\n",
      "K_u\n",
      "K_o\n",
      "K_p\n",
      "K_a\n",
      "K_d\n",
      "K_w\n",
      "K_s\n",
      "K_UP\n",
      "K_DOWN\n",
      "K_e\n",
      "K_r\n",
      "K_j\n",
      "K_u\n"
     ]
    },
    {
     "name": "stderr",
     "output_type": "stream",
     "text": [
      "[INFO] tello.py - 471 - Send command (no response expected): 'rc 0 0 0 0'\n",
      "[INFO] tello.py - 471 - Send command (no response expected): 'rc 0 0 0 0'\n"
     ]
    },
    {
     "name": "stdout",
     "output_type": "stream",
     "text": [
      "K_o\n",
      "K_p\n",
      "K_a\n",
      "K_d\n",
      "K_w\n",
      "K_s\n",
      "K_UP\n",
      "K_DOWN\n",
      "K_e\n",
      "K_r\n",
      "K_j\n",
      "K_u\n",
      "K_o\n",
      "K_p\n",
      "K_a\n",
      "K_d\n",
      "K_w\n",
      "K_s\n",
      "K_UP\n",
      "K_DOWN\n",
      "K_e\n",
      "K_r\n",
      "K_j\n",
      "K_u\n"
     ]
    },
    {
     "name": "stderr",
     "output_type": "stream",
     "text": [
      "[INFO] tello.py - 471 - Send command (no response expected): 'rc 0 0 0 0'\n",
      "[INFO] tello.py - 471 - Send command (no response expected): 'rc 0 0 0 0'\n"
     ]
    },
    {
     "name": "stdout",
     "output_type": "stream",
     "text": [
      "K_o\n",
      "K_p\n",
      "K_a\n",
      "K_d\n",
      "K_w\n",
      "K_s\n",
      "K_UP\n",
      "K_DOWN\n",
      "K_e\n",
      "K_r\n",
      "K_j\n",
      "K_u\n",
      "K_o\n",
      "K_p\n",
      "K_a\n",
      "K_d\n",
      "K_w\n",
      "K_s\n",
      "K_UP\n",
      "K_DOWN\n",
      "K_e\n",
      "K_r\n",
      "K_j\n",
      "K_u\n"
     ]
    },
    {
     "name": "stderr",
     "output_type": "stream",
     "text": [
      "[INFO] tello.py - 471 - Send command (no response expected): 'rc 0 0 0 0'\n",
      "error while decoding MB 47 44, bytestream -6\n",
      "error while decoding MB 46 36, bytestream -9\n",
      "error while decoding MB 11 40, bytestream -5\n",
      "[INFO] tello.py - 471 - Send command (no response expected): 'rc 0 0 0 0'\n"
     ]
    },
    {
     "name": "stdout",
     "output_type": "stream",
     "text": [
      "K_o\n",
      "K_p\n",
      "K_a\n",
      "K_d\n",
      "K_w\n",
      "K_s\n",
      "K_UP\n",
      "K_DOWN\n",
      "K_e\n",
      "K_r\n",
      "K_j\n",
      "K_u\n",
      "K_o\n",
      "K_p\n",
      "K_a\n",
      "K_d\n",
      "K_w\n",
      "K_s\n",
      "K_UP\n",
      "K_DOWN\n",
      "K_e\n",
      "K_r\n",
      "K_j\n",
      "K_u\n"
     ]
    },
    {
     "name": "stderr",
     "output_type": "stream",
     "text": [
      "left block unavailable for requested intra4x4 mode -1\n",
      "error while decoding MB 0 4, bytestream 7082\n",
      "[INFO] tello.py - 471 - Send command (no response expected): 'rc 0 0 0 0'\n",
      "[INFO] tello.py - 471 - Send command (no response expected): 'rc 0 0 0 0'\n"
     ]
    },
    {
     "name": "stdout",
     "output_type": "stream",
     "text": [
      "K_o\n",
      "K_p\n",
      "K_a\n",
      "K_d\n",
      "K_w\n",
      "K_s\n",
      "K_UP\n",
      "K_DOWN\n",
      "K_e\n",
      "K_r\n",
      "K_j\n",
      "K_u\n",
      "K_o\n",
      "K_p\n",
      "K_a\n",
      "K_d\n",
      "K_w\n",
      "K_s\n",
      "K_UP\n",
      "K_DOWN\n",
      "K_e\n",
      "K_r\n",
      "K_j\n",
      "K_u\n"
     ]
    },
    {
     "name": "stderr",
     "output_type": "stream",
     "text": [
      "error while decoding MB 16 40, bytestream -6\n",
      "[INFO] tello.py - 471 - Send command (no response expected): 'rc 0 0 0 0'\n",
      "[INFO] tello.py - 471 - Send command (no response expected): 'rc 0 0 0 0'\n"
     ]
    },
    {
     "name": "stdout",
     "output_type": "stream",
     "text": [
      "K_o\n",
      "K_p\n",
      "K_a\n",
      "K_d\n",
      "K_w\n",
      "K_s\n",
      "K_UP\n",
      "K_DOWN\n",
      "K_e\n",
      "K_r\n",
      "K_j\n",
      "K_u\n",
      "K_o\n",
      "K_p\n",
      "K_a\n",
      "K_d\n",
      "K_w\n",
      "K_s\n",
      "K_UP\n",
      "K_DOWN\n",
      "K_e\n",
      "K_r\n",
      "K_j\n",
      "K_u\n"
     ]
    },
    {
     "name": "stderr",
     "output_type": "stream",
     "text": [
      "[INFO] tello.py - 471 - Send command (no response expected): 'rc 0 0 0 0'\n",
      "[INFO] tello.py - 471 - Send command (no response expected): 'rc 0 0 0 0'\n"
     ]
    },
    {
     "name": "stdout",
     "output_type": "stream",
     "text": [
      "K_o\n",
      "K_p\n",
      "K_a\n",
      "K_d\n",
      "K_w\n",
      "K_s\n",
      "K_UP\n",
      "K_DOWN\n",
      "K_e\n",
      "K_r\n",
      "K_j\n",
      "K_u\n",
      "K_o\n",
      "K_p\n",
      "K_a\n",
      "K_d\n",
      "K_w\n",
      "K_s\n",
      "K_UP\n",
      "K_DOWN\n",
      "K_e\n",
      "K_r\n",
      "K_j\n",
      "K_u\n"
     ]
    },
    {
     "name": "stderr",
     "output_type": "stream",
     "text": [
      "[INFO] tello.py - 471 - Send command (no response expected): 'rc 0 0 0 0'\n",
      "[INFO] tello.py - 471 - Send command (no response expected): 'rc 0 0 0 0'\n"
     ]
    },
    {
     "name": "stdout",
     "output_type": "stream",
     "text": [
      "K_o\n",
      "K_p\n",
      "K_a\n",
      "K_d\n",
      "K_w\n",
      "K_s\n",
      "K_UP\n",
      "K_DOWN\n",
      "K_e\n",
      "K_r\n",
      "K_j\n",
      "K_u\n",
      "K_o\n",
      "K_p\n",
      "K_a\n",
      "K_d\n",
      "K_w\n",
      "K_s\n",
      "K_UP\n",
      "K_DOWN\n",
      "K_e\n",
      "K_r\n",
      "K_j\n",
      "K_u\n"
     ]
    },
    {
     "name": "stderr",
     "output_type": "stream",
     "text": [
      "[INFO] tello.py - 471 - Send command (no response expected): 'rc 0 0 0 0'\n",
      "[INFO] tello.py - 471 - Send command (no response expected): 'rc 0 0 0 0'\n"
     ]
    },
    {
     "name": "stdout",
     "output_type": "stream",
     "text": [
      "K_o\n",
      "K_p\n",
      "K_a\n",
      "K_d\n",
      "K_w\n",
      "K_s\n",
      "K_UP\n",
      "K_DOWN\n",
      "K_e\n",
      "K_r\n",
      "K_j\n",
      "K_u\n",
      "K_o\n",
      "K_p\n",
      "K_a\n",
      "K_d\n",
      "K_w\n",
      "K_s\n",
      "K_UP\n",
      "K_DOWN\n",
      "K_e\n",
      "K_r\n",
      "K_j\n",
      "K_u\n"
     ]
    },
    {
     "name": "stderr",
     "output_type": "stream",
     "text": [
      "[INFO] tello.py - 471 - Send command (no response expected): 'rc 0 0 0 0'\n",
      "[INFO] tello.py - 471 - Send command (no response expected): 'rc 0 0 0 0'\n"
     ]
    },
    {
     "name": "stdout",
     "output_type": "stream",
     "text": [
      "K_o\n",
      "K_p\n",
      "K_a\n",
      "K_d\n",
      "K_w\n",
      "K_s\n",
      "K_UP\n",
      "K_DOWN\n",
      "K_e\n",
      "K_r\n",
      "K_j\n",
      "K_u\n",
      "K_o\n",
      "K_p\n",
      "K_a\n",
      "K_d\n",
      "K_w\n",
      "K_s\n",
      "K_UP\n",
      "K_DOWN\n",
      "K_e\n",
      "K_r\n",
      "K_j\n",
      "K_u\n"
     ]
    },
    {
     "name": "stderr",
     "output_type": "stream",
     "text": [
      "[INFO] tello.py - 471 - Send command (no response expected): 'rc 0 0 0 0'\n",
      "[INFO] tello.py - 471 - Send command (no response expected): 'rc 0 0 0 0'\n"
     ]
    },
    {
     "name": "stdout",
     "output_type": "stream",
     "text": [
      "K_o\n",
      "K_p\n",
      "K_a\n",
      "K_d\n",
      "K_w\n",
      "K_s\n",
      "K_UP\n",
      "K_DOWN\n",
      "K_e\n",
      "K_r\n",
      "K_j\n",
      "K_u\n",
      "K_o\n",
      "K_p\n",
      "K_a\n",
      "K_d\n",
      "K_w\n",
      "K_s\n",
      "K_UP\n",
      "K_DOWN\n",
      "K_e\n",
      "K_r\n",
      "K_j\n",
      "K_u\n"
     ]
    },
    {
     "name": "stderr",
     "output_type": "stream",
     "text": [
      "[INFO] tello.py - 471 - Send command (no response expected): 'rc 0 0 0 0'\n",
      "[INFO] tello.py - 471 - Send command (no response expected): 'rc 0 0 0 0'\n"
     ]
    },
    {
     "name": "stdout",
     "output_type": "stream",
     "text": [
      "K_o\n",
      "K_p\n",
      "K_a\n",
      "K_d\n",
      "K_w\n",
      "K_s\n",
      "K_UP\n",
      "K_DOWN\n",
      "K_e\n",
      "K_r\n",
      "K_j\n",
      "K_u\n",
      "K_o\n",
      "K_p\n",
      "K_a\n",
      "K_d\n",
      "K_w\n",
      "K_s\n",
      "K_UP\n",
      "K_DOWN\n",
      "K_e\n",
      "K_r\n",
      "K_j\n",
      "K_u\n"
     ]
    },
    {
     "name": "stderr",
     "output_type": "stream",
     "text": [
      "[INFO] tello.py - 471 - Send command (no response expected): 'rc 0 0 0 0'\n",
      "[INFO] tello.py - 471 - Send command (no response expected): 'rc 0 0 0 0'\n"
     ]
    },
    {
     "name": "stdout",
     "output_type": "stream",
     "text": [
      "K_o\n",
      "K_p\n",
      "K_a\n",
      "K_d\n",
      "K_w\n",
      "K_s\n",
      "K_UP\n",
      "K_DOWN\n",
      "K_e\n",
      "K_r\n",
      "K_j\n",
      "K_u\n",
      "K_o\n",
      "K_p\n",
      "K_a\n",
      "K_d\n",
      "K_w\n",
      "K_s\n",
      "K_UP\n",
      "K_DOWN\n",
      "K_e\n",
      "K_r\n",
      "K_j\n",
      "K_u\n"
     ]
    },
    {
     "name": "stderr",
     "output_type": "stream",
     "text": [
      "[INFO] tello.py - 471 - Send command (no response expected): 'rc 0 0 0 0'\n",
      "[INFO] tello.py - 471 - Send command (no response expected): 'rc 0 0 0 0'\n"
     ]
    },
    {
     "name": "stdout",
     "output_type": "stream",
     "text": [
      "K_o\n",
      "K_p\n",
      "K_a\n",
      "K_d\n",
      "K_w\n",
      "K_s\n",
      "K_UP\n",
      "K_DOWN\n",
      "K_e\n",
      "K_r\n",
      "K_j\n",
      "K_u\n",
      "K_o\n",
      "K_p\n",
      "K_a\n",
      "K_d\n",
      "K_w\n",
      "K_s\n",
      "K_UP\n",
      "K_DOWN\n",
      "K_e\n",
      "K_r\n",
      "K_j\n",
      "K_u\n"
     ]
    },
    {
     "name": "stderr",
     "output_type": "stream",
     "text": [
      "[INFO] tello.py - 471 - Send command (no response expected): 'rc 0 0 0 0'\n",
      "[INFO] tello.py - 471 - Send command (no response expected): 'rc 0 0 0 0'\n"
     ]
    },
    {
     "name": "stdout",
     "output_type": "stream",
     "text": [
      "K_o\n",
      "K_p\n",
      "K_a\n",
      "K_d\n",
      "K_w\n",
      "K_s\n",
      "K_UP\n",
      "K_DOWN\n",
      "K_e\n",
      "K_r\n",
      "K_j\n",
      "K_u\n",
      "K_o\n",
      "K_p\n",
      "K_a\n",
      "K_d\n",
      "K_w\n",
      "K_s\n",
      "K_UP\n",
      "K_DOWN\n",
      "K_e\n",
      "K_r\n",
      "K_j\n",
      "K_u\n"
     ]
    },
    {
     "name": "stderr",
     "output_type": "stream",
     "text": [
      "[INFO] tello.py - 471 - Send command (no response expected): 'rc 0 0 0 0'\n",
      "[INFO] tello.py - 471 - Send command (no response expected): 'rc 0 0 0 0'\n"
     ]
    },
    {
     "name": "stdout",
     "output_type": "stream",
     "text": [
      "K_o\n",
      "K_p\n",
      "K_a\n",
      "K_d\n",
      "K_w\n",
      "K_s\n",
      "K_UP\n",
      "K_DOWN\n",
      "K_e\n",
      "K_r\n",
      "K_j\n",
      "K_u\n",
      "K_o\n",
      "K_p\n",
      "K_a\n",
      "K_d\n",
      "K_w\n",
      "K_s\n",
      "K_UP\n",
      "K_DOWN\n",
      "K_e\n",
      "K_r\n",
      "K_j\n",
      "K_u\n"
     ]
    },
    {
     "name": "stderr",
     "output_type": "stream",
     "text": [
      "[INFO] tello.py - 471 - Send command (no response expected): 'rc 0 0 0 0'\n",
      "[INFO] tello.py - 471 - Send command (no response expected): 'rc 0 0 0 0'\n"
     ]
    },
    {
     "name": "stdout",
     "output_type": "stream",
     "text": [
      "K_o\n",
      "K_p\n",
      "K_a\n",
      "K_d\n",
      "K_w\n",
      "K_s\n",
      "K_UP\n",
      "K_DOWN\n",
      "K_e\n",
      "K_r\n",
      "K_j\n",
      "K_u\n",
      "K_o\n",
      "K_p\n",
      "K_a\n",
      "K_d\n",
      "K_w\n",
      "K_s\n",
      "K_UP\n",
      "K_DOWN\n",
      "K_e\n",
      "K_r\n",
      "K_j\n",
      "K_u\n"
     ]
    },
    {
     "name": "stderr",
     "output_type": "stream",
     "text": [
      "[INFO] tello.py - 471 - Send command (no response expected): 'rc 0 0 0 0'\n",
      "[INFO] tello.py - 471 - Send command (no response expected): 'rc 0 0 0 0'\n"
     ]
    },
    {
     "name": "stdout",
     "output_type": "stream",
     "text": [
      "K_o\n",
      "K_p\n",
      "K_a\n",
      "K_d\n",
      "K_w\n",
      "K_s\n",
      "K_UP\n",
      "K_DOWN\n",
      "K_e\n",
      "K_r\n",
      "K_j\n",
      "K_u\n",
      "K_o\n",
      "K_p\n",
      "K_a\n",
      "K_d\n",
      "K_w\n",
      "K_s\n",
      "K_UP\n",
      "K_DOWN\n",
      "K_e\n",
      "K_r\n",
      "K_j\n",
      "K_u\n"
     ]
    },
    {
     "name": "stderr",
     "output_type": "stream",
     "text": [
      "[INFO] tello.py - 471 - Send command (no response expected): 'rc 0 0 0 0'\n",
      "[INFO] tello.py - 471 - Send command (no response expected): 'rc 0 0 0 0'\n"
     ]
    },
    {
     "name": "stdout",
     "output_type": "stream",
     "text": [
      "K_o\n",
      "K_p\n",
      "K_a\n",
      "K_d\n",
      "K_w\n",
      "K_s\n",
      "K_UP\n",
      "K_DOWN\n",
      "K_e\n",
      "K_r\n",
      "K_j\n",
      "K_u\n",
      "K_o\n",
      "K_p\n",
      "K_a\n",
      "K_d\n",
      "K_w\n",
      "K_s\n",
      "K_UP\n",
      "K_DOWN\n",
      "K_e\n",
      "K_r\n",
      "K_j\n",
      "K_u\n"
     ]
    },
    {
     "name": "stderr",
     "output_type": "stream",
     "text": [
      "[INFO] tello.py - 471 - Send command (no response expected): 'rc 0 0 0 0'\n",
      "[INFO] tello.py - 471 - Send command (no response expected): 'rc 0 0 0 0'\n"
     ]
    },
    {
     "name": "stdout",
     "output_type": "stream",
     "text": [
      "K_o\n",
      "K_p\n",
      "K_a\n",
      "K_d\n",
      "K_w\n",
      "K_s\n",
      "K_UP\n",
      "K_DOWN\n",
      "K_e\n",
      "K_r\n",
      "K_j\n",
      "K_u\n",
      "K_o\n",
      "K_p\n",
      "K_a\n",
      "K_d\n",
      "K_w\n",
      "K_s\n",
      "K_UP\n",
      "K_DOWN\n",
      "K_e\n",
      "K_r\n",
      "K_j\n",
      "K_u\n"
     ]
    },
    {
     "name": "stderr",
     "output_type": "stream",
     "text": [
      "[INFO] tello.py - 471 - Send command (no response expected): 'rc 0 0 0 0'\n",
      "[INFO] tello.py - 471 - Send command (no response expected): 'rc 0 0 0 0'\n"
     ]
    },
    {
     "name": "stdout",
     "output_type": "stream",
     "text": [
      "K_o\n",
      "K_p\n",
      "K_a\n",
      "K_d\n",
      "K_w\n",
      "K_s\n",
      "K_UP\n",
      "K_DOWN\n",
      "K_e\n",
      "K_r\n",
      "K_j\n",
      "K_u\n",
      "K_o\n",
      "K_p\n",
      "K_a\n",
      "K_d\n",
      "K_w\n",
      "K_s\n",
      "K_UP\n",
      "K_DOWN\n",
      "K_e\n",
      "K_r\n",
      "K_j\n",
      "K_u\n"
     ]
    },
    {
     "name": "stderr",
     "output_type": "stream",
     "text": [
      "[INFO] tello.py - 471 - Send command (no response expected): 'rc 0 0 0 0'\n",
      "[INFO] tello.py - 471 - Send command (no response expected): 'rc 0 0 0 0'\n"
     ]
    },
    {
     "name": "stdout",
     "output_type": "stream",
     "text": [
      "K_o\n",
      "K_p\n",
      "K_a\n",
      "K_d\n",
      "K_w\n",
      "K_s\n",
      "K_UP\n",
      "K_DOWN\n",
      "K_e\n",
      "K_r\n",
      "K_j\n",
      "K_u\n",
      "K_o\n",
      "K_p\n",
      "K_a\n",
      "K_d\n",
      "K_w\n",
      "K_s\n",
      "K_UP\n",
      "K_DOWN\n",
      "K_e\n",
      "K_r\n",
      "K_j\n",
      "K_u\n"
     ]
    },
    {
     "name": "stderr",
     "output_type": "stream",
     "text": [
      "[INFO] tello.py - 471 - Send command (no response expected): 'rc 0 0 0 0'\n",
      "[INFO] tello.py - 471 - Send command (no response expected): 'rc 0 0 0 0'\n"
     ]
    },
    {
     "name": "stdout",
     "output_type": "stream",
     "text": [
      "K_o\n",
      "K_p\n",
      "K_a\n",
      "K_d\n",
      "K_w\n",
      "K_s\n",
      "K_UP\n",
      "K_DOWN\n",
      "K_e\n",
      "K_r\n",
      "K_j\n",
      "K_u\n",
      "K_o\n",
      "K_p\n",
      "K_a\n",
      "K_d\n",
      "K_w\n",
      "K_s\n",
      "K_UP\n",
      "K_DOWN\n",
      "K_e\n",
      "K_r\n",
      "K_j\n",
      "K_u\n"
     ]
    },
    {
     "name": "stderr",
     "output_type": "stream",
     "text": [
      "[INFO] tello.py - 471 - Send command (no response expected): 'rc 0 0 0 0'\n",
      "[INFO] tello.py - 471 - Send command (no response expected): 'rc 0 0 0 0'\n"
     ]
    },
    {
     "name": "stdout",
     "output_type": "stream",
     "text": [
      "K_o\n",
      "K_p\n",
      "K_a\n",
      "K_d\n",
      "K_w\n",
      "K_s\n",
      "K_UP\n",
      "K_DOWN\n",
      "K_e\n",
      "K_r\n",
      "K_j\n",
      "K_u\n",
      "K_o\n",
      "K_p\n",
      "K_a\n",
      "K_d\n",
      "K_w\n",
      "K_s\n",
      "K_UP\n",
      "K_DOWN\n",
      "K_e\n",
      "K_r\n",
      "K_j\n",
      "K_u\n"
     ]
    },
    {
     "name": "stderr",
     "output_type": "stream",
     "text": [
      "[INFO] tello.py - 471 - Send command (no response expected): 'rc 0 0 0 0'\n",
      "[INFO] tello.py - 471 - Send command (no response expected): 'rc 0 0 0 0'\n"
     ]
    },
    {
     "name": "stdout",
     "output_type": "stream",
     "text": [
      "K_o\n",
      "K_p\n",
      "K_a\n",
      "K_d\n",
      "K_w\n",
      "K_s\n",
      "K_UP\n",
      "K_DOWN\n",
      "K_e\n",
      "K_r\n",
      "K_j\n",
      "K_u\n",
      "K_o\n",
      "K_p\n",
      "K_a\n",
      "K_d\n",
      "K_w\n",
      "K_s\n",
      "K_UP\n",
      "K_DOWN\n",
      "K_e\n",
      "K_r\n",
      "K_j\n",
      "K_u\n"
     ]
    },
    {
     "name": "stderr",
     "output_type": "stream",
     "text": [
      "[INFO] tello.py - 471 - Send command (no response expected): 'rc 0 0 0 0'\n",
      "[INFO] tello.py - 471 - Send command (no response expected): 'rc 0 0 0 0'\n"
     ]
    },
    {
     "name": "stdout",
     "output_type": "stream",
     "text": [
      "K_o\n",
      "K_p\n",
      "K_a\n",
      "K_d\n",
      "K_w\n",
      "K_s\n",
      "K_UP\n",
      "K_DOWN\n",
      "K_e\n",
      "K_r\n",
      "K_j\n",
      "K_u\n",
      "K_o\n",
      "K_p\n",
      "K_a\n",
      "K_d\n",
      "K_w\n",
      "K_s\n",
      "K_UP\n",
      "K_DOWN\n",
      "K_e\n",
      "K_r\n",
      "K_j\n",
      "K_u\n"
     ]
    },
    {
     "name": "stderr",
     "output_type": "stream",
     "text": [
      "[INFO] tello.py - 471 - Send command (no response expected): 'rc 0 0 0 0'\n",
      "[INFO] tello.py - 471 - Send command (no response expected): 'rc 0 0 0 0'\n"
     ]
    },
    {
     "name": "stdout",
     "output_type": "stream",
     "text": [
      "K_o\n",
      "K_p\n",
      "K_a\n",
      "K_d\n",
      "K_w\n",
      "K_s\n",
      "K_UP\n",
      "K_DOWN\n",
      "K_e\n",
      "K_r\n",
      "K_j\n",
      "K_u\n",
      "K_o\n",
      "K_p\n",
      "K_a\n",
      "K_d\n",
      "K_w\n",
      "K_s\n",
      "K_UP\n",
      "K_DOWN\n",
      "K_e\n",
      "K_r\n",
      "K_j\n",
      "K_u\n"
     ]
    },
    {
     "name": "stderr",
     "output_type": "stream",
     "text": [
      "[INFO] tello.py - 471 - Send command (no response expected): 'rc 0 0 0 0'\n",
      "[INFO] tello.py - 471 - Send command (no response expected): 'rc 0 0 0 0'\n"
     ]
    },
    {
     "name": "stdout",
     "output_type": "stream",
     "text": [
      "K_o\n",
      "K_p\n",
      "K_a\n",
      "K_d\n",
      "K_w\n",
      "K_s\n",
      "K_UP\n",
      "K_DOWN\n",
      "K_e\n",
      "K_r\n",
      "K_j\n",
      "K_u\n",
      "K_o\n",
      "K_p\n",
      "K_a\n",
      "K_d\n",
      "K_w\n",
      "K_s\n",
      "K_UP\n",
      "K_DOWN\n",
      "K_e\n",
      "K_r\n",
      "K_j\n",
      "K_u\n"
     ]
    },
    {
     "name": "stderr",
     "output_type": "stream",
     "text": [
      "[INFO] tello.py - 471 - Send command (no response expected): 'rc 0 0 0 0'\n",
      "error while decoding MB 52 34, bytestream -6\n",
      "[INFO] tello.py - 471 - Send command (no response expected): 'rc 0 0 0 0'\n"
     ]
    },
    {
     "name": "stdout",
     "output_type": "stream",
     "text": [
      "K_o\n",
      "K_p\n",
      "K_a\n",
      "K_d\n",
      "K_w\n",
      "K_s\n",
      "K_UP\n",
      "K_DOWN\n",
      "K_e\n",
      "K_r\n",
      "K_j\n",
      "K_u\n",
      "K_o\n",
      "K_p\n",
      "K_a\n",
      "K_d\n",
      "K_w\n",
      "K_s\n",
      "K_UP\n",
      "K_DOWN\n",
      "K_e\n",
      "K_r\n",
      "K_j\n",
      "K_u\n"
     ]
    },
    {
     "name": "stderr",
     "output_type": "stream",
     "text": [
      "[INFO] tello.py - 471 - Send command (no response expected): 'rc 0 0 0 0'\n",
      "[INFO] tello.py - 471 - Send command (no response expected): 'rc 0 0 0 0'\n"
     ]
    },
    {
     "name": "stdout",
     "output_type": "stream",
     "text": [
      "K_o\n",
      "K_p\n",
      "K_a\n",
      "K_d\n",
      "K_w\n",
      "K_s\n",
      "K_UP\n",
      "K_DOWN\n",
      "K_e\n",
      "K_r\n",
      "K_j\n",
      "K_u\n",
      "K_o\n",
      "K_p\n",
      "K_a\n",
      "K_d\n",
      "K_w\n",
      "K_s\n",
      "K_UP\n",
      "K_DOWN\n",
      "K_e\n",
      "K_r\n",
      "K_j\n",
      "K_u\n"
     ]
    },
    {
     "name": "stderr",
     "output_type": "stream",
     "text": [
      "[INFO] tello.py - 471 - Send command (no response expected): 'rc 0 0 0 0'\n",
      "[INFO] tello.py - 471 - Send command (no response expected): 'rc 0 0 0 0'\n"
     ]
    },
    {
     "name": "stdout",
     "output_type": "stream",
     "text": [
      "K_o\n",
      "K_p\n",
      "K_a\n",
      "K_d\n",
      "K_w\n",
      "K_s\n",
      "K_UP\n",
      "K_DOWN\n",
      "K_e\n",
      "K_r\n",
      "K_j\n",
      "K_u\n",
      "K_o\n",
      "K_p\n",
      "K_a\n",
      "K_d\n",
      "K_w\n",
      "K_s\n",
      "K_UP\n",
      "K_DOWN\n",
      "K_e\n",
      "K_r\n",
      "K_j\n",
      "K_u\n"
     ]
    },
    {
     "name": "stderr",
     "output_type": "stream",
     "text": [
      "[INFO] tello.py - 471 - Send command (no response expected): 'rc 0 0 0 0'\n",
      "[INFO] tello.py - 471 - Send command (no response expected): 'rc 0 0 0 0'\n"
     ]
    },
    {
     "name": "stdout",
     "output_type": "stream",
     "text": [
      "K_o\n",
      "K_p\n",
      "K_a\n",
      "K_d\n",
      "K_w\n",
      "K_s\n",
      "K_UP\n",
      "K_DOWN\n",
      "K_e\n",
      "K_r\n",
      "K_j\n",
      "K_u\n",
      "K_o\n",
      "K_p\n",
      "K_a\n",
      "K_d\n",
      "K_w\n",
      "K_s\n",
      "K_UP\n",
      "K_DOWN\n",
      "K_e\n",
      "K_r\n",
      "K_j\n",
      "K_u\n"
     ]
    },
    {
     "name": "stderr",
     "output_type": "stream",
     "text": [
      "[INFO] tello.py - 471 - Send command (no response expected): 'rc 0 0 0 0'\n",
      "[INFO] tello.py - 471 - Send command (no response expected): 'rc 0 0 0 0'\n"
     ]
    },
    {
     "name": "stdout",
     "output_type": "stream",
     "text": [
      "K_o\n",
      "K_p\n",
      "K_a\n",
      "K_d\n",
      "K_w\n",
      "K_s\n",
      "K_UP\n",
      "K_DOWN\n",
      "K_e\n",
      "K_r\n",
      "K_j\n",
      "K_u\n",
      "K_o\n",
      "K_p\n",
      "K_a\n",
      "K_d\n",
      "K_w\n",
      "K_s\n",
      "K_UP\n",
      "K_DOWN\n",
      "K_e\n",
      "K_r\n",
      "K_j\n",
      "K_u\n"
     ]
    },
    {
     "name": "stderr",
     "output_type": "stream",
     "text": [
      "[INFO] tello.py - 471 - Send command (no response expected): 'rc 0 0 0 0'\n",
      "[INFO] tello.py - 471 - Send command (no response expected): 'rc 0 0 0 0'\n"
     ]
    },
    {
     "name": "stdout",
     "output_type": "stream",
     "text": [
      "K_o\n",
      "K_p\n",
      "K_a\n",
      "K_d\n",
      "K_w\n",
      "K_s\n",
      "K_UP\n",
      "K_DOWN\n",
      "K_e\n",
      "K_r\n",
      "K_j\n",
      "K_u\n",
      "K_o\n",
      "K_p\n",
      "K_a\n",
      "K_d\n",
      "K_w\n",
      "K_s\n",
      "K_UP\n",
      "K_DOWN\n",
      "K_e\n",
      "K_r\n",
      "K_j\n",
      "K_u\n"
     ]
    },
    {
     "name": "stderr",
     "output_type": "stream",
     "text": [
      "[INFO] tello.py - 471 - Send command (no response expected): 'rc 0 0 0 0'\n",
      "[INFO] tello.py - 471 - Send command (no response expected): 'rc 0 0 0 0'\n"
     ]
    },
    {
     "name": "stdout",
     "output_type": "stream",
     "text": [
      "K_o\n",
      "K_p\n",
      "K_a\n",
      "K_d\n",
      "K_w\n",
      "K_s\n",
      "K_UP\n",
      "K_DOWN\n",
      "K_e\n",
      "K_r\n",
      "K_j\n",
      "K_u\n",
      "K_o\n",
      "K_p\n",
      "K_a\n",
      "K_d\n",
      "K_w\n",
      "K_s\n",
      "K_UP\n",
      "K_DOWN\n",
      "K_e\n",
      "K_r\n",
      "K_j\n",
      "K_u\n"
     ]
    },
    {
     "name": "stderr",
     "output_type": "stream",
     "text": [
      "[INFO] tello.py - 471 - Send command (no response expected): 'rc 0 0 0 0'\n",
      "error while decoding MB 2 40, bytestream -7\n",
      "[INFO] tello.py - 471 - Send command (no response expected): 'rc 0 0 0 0'\n"
     ]
    },
    {
     "name": "stdout",
     "output_type": "stream",
     "text": [
      "K_o\n",
      "K_p\n",
      "K_a\n",
      "K_d\n",
      "K_w\n",
      "K_s\n",
      "K_UP\n",
      "K_DOWN\n",
      "K_e\n",
      "K_r\n",
      "K_j\n",
      "K_u\n",
      "K_o\n",
      "K_p\n",
      "K_a\n",
      "K_d\n",
      "K_w\n",
      "K_s\n",
      "K_UP\n",
      "K_DOWN\n",
      "K_e\n",
      "K_r\n",
      "K_j\n",
      "K_u\n"
     ]
    },
    {
     "name": "stderr",
     "output_type": "stream",
     "text": [
      "[INFO] tello.py - 471 - Send command (no response expected): 'rc 0 0 0 0'\n",
      "[INFO] tello.py - 471 - Send command (no response expected): 'rc 0 0 0 0'\n"
     ]
    },
    {
     "name": "stdout",
     "output_type": "stream",
     "text": [
      "K_o\n",
      "K_p\n",
      "K_a\n",
      "K_d\n",
      "K_w\n",
      "K_s\n",
      "K_UP\n",
      "K_DOWN\n",
      "K_e\n",
      "K_r\n",
      "K_j\n",
      "K_u\n",
      "K_o\n",
      "K_p\n",
      "K_a\n",
      "K_d\n",
      "K_w\n",
      "K_s\n",
      "K_UP\n",
      "K_DOWN\n",
      "K_e\n",
      "K_r\n",
      "K_j\n",
      "K_u\n"
     ]
    },
    {
     "name": "stderr",
     "output_type": "stream",
     "text": [
      "[INFO] tello.py - 471 - Send command (no response expected): 'rc 0 0 0 0'\n",
      "[INFO] tello.py - 471 - Send command (no response expected): 'rc 0 0 0 0'\n"
     ]
    },
    {
     "name": "stdout",
     "output_type": "stream",
     "text": [
      "K_o\n",
      "K_p\n",
      "K_a\n",
      "K_d\n",
      "K_w\n",
      "K_s\n",
      "K_UP\n",
      "K_DOWN\n",
      "K_e\n",
      "K_r\n",
      "K_j\n",
      "K_u\n",
      "K_o\n",
      "K_p\n",
      "K_a\n",
      "K_d\n",
      "K_w\n",
      "K_s\n",
      "K_UP\n",
      "K_DOWN\n",
      "K_e\n",
      "K_r\n",
      "K_j\n",
      "K_u\n"
     ]
    },
    {
     "name": "stderr",
     "output_type": "stream",
     "text": [
      "[INFO] tello.py - 471 - Send command (no response expected): 'rc 0 0 0 0'\n",
      "[INFO] tello.py - 471 - Send command (no response expected): 'rc 0 0 0 0'\n"
     ]
    },
    {
     "name": "stdout",
     "output_type": "stream",
     "text": [
      "K_o\n",
      "K_p\n",
      "K_a\n",
      "K_d\n",
      "K_w\n",
      "K_s\n",
      "K_UP\n",
      "K_DOWN\n",
      "K_e\n",
      "K_r\n",
      "K_j\n",
      "K_u\n",
      "K_o\n",
      "K_p\n",
      "K_a\n",
      "K_d\n",
      "K_w\n",
      "K_s\n",
      "K_UP\n",
      "K_DOWN\n",
      "K_e\n",
      "K_r\n",
      "K_j\n",
      "K_u\n"
     ]
    },
    {
     "name": "stderr",
     "output_type": "stream",
     "text": [
      "[INFO] tello.py - 471 - Send command (no response expected): 'rc 0 0 0 0'\n",
      "[INFO] tello.py - 471 - Send command (no response expected): 'rc 0 0 0 0'\n"
     ]
    },
    {
     "name": "stdout",
     "output_type": "stream",
     "text": [
      "K_o\n",
      "K_p\n",
      "K_a\n",
      "K_d\n",
      "K_w\n",
      "K_s\n",
      "K_UP\n",
      "K_DOWN\n",
      "K_e\n",
      "K_r\n",
      "K_j\n",
      "K_u\n",
      "K_o\n",
      "K_p\n",
      "K_a\n",
      "K_d\n",
      "K_w\n",
      "K_s\n",
      "K_UP\n",
      "K_DOWN\n",
      "K_e\n",
      "K_r\n",
      "K_j\n",
      "K_u\n"
     ]
    },
    {
     "name": "stderr",
     "output_type": "stream",
     "text": [
      "[INFO] tello.py - 471 - Send command (no response expected): 'rc 0 0 0 0'\n",
      "[INFO] tello.py - 471 - Send command (no response expected): 'rc 0 0 0 0'\n"
     ]
    },
    {
     "name": "stdout",
     "output_type": "stream",
     "text": [
      "K_o\n",
      "K_p\n",
      "K_a\n",
      "K_d\n",
      "K_w\n",
      "K_s\n",
      "K_UP\n",
      "K_DOWN\n",
      "K_e\n",
      "K_r\n",
      "K_j\n",
      "K_u\n",
      "K_o\n",
      "K_p\n",
      "K_a\n",
      "K_d\n",
      "K_w\n",
      "K_s\n",
      "K_UP\n",
      "K_DOWN\n",
      "K_e\n",
      "K_r\n",
      "K_j\n",
      "K_u\n"
     ]
    },
    {
     "name": "stderr",
     "output_type": "stream",
     "text": [
      "[INFO] tello.py - 471 - Send command (no response expected): 'rc 0 0 0 0'\n",
      "[INFO] tello.py - 471 - Send command (no response expected): 'rc 0 0 0 0'\n"
     ]
    },
    {
     "name": "stdout",
     "output_type": "stream",
     "text": [
      "K_o\n",
      "K_p\n",
      "K_a\n",
      "K_d\n",
      "K_w\n",
      "K_s\n",
      "K_UP\n",
      "K_DOWN\n",
      "K_e\n",
      "K_r\n",
      "K_j\n",
      "K_u\n",
      "K_o\n",
      "K_p\n",
      "K_a\n",
      "K_d\n",
      "K_w\n",
      "K_s\n",
      "K_UP\n",
      "K_DOWN\n",
      "K_e\n",
      "K_r\n",
      "K_j\n",
      "K_u\n",
      "K_o\n",
      "K_p\n"
     ]
    },
    {
     "name": "stderr",
     "output_type": "stream",
     "text": [
      "[INFO] tello.py - 471 - Send command (no response expected): 'rc 0 0 0 0'\n",
      "[INFO] tello.py - 471 - Send command (no response expected): 'rc 0 0 0 0'\n"
     ]
    },
    {
     "name": "stdout",
     "output_type": "stream",
     "text": [
      "K_a\n",
      "K_d\n",
      "K_w\n",
      "K_s\n",
      "K_UP\n",
      "K_DOWN\n",
      "K_e\n",
      "K_r\n",
      "K_j\n",
      "K_u\n",
      "K_o\n",
      "K_p\n",
      "K_a\n",
      "K_d\n",
      "K_w\n",
      "K_s\n",
      "K_UP\n",
      "K_DOWN\n",
      "K_e\n",
      "K_r\n",
      "K_j\n",
      "K_u\n"
     ]
    },
    {
     "name": "stderr",
     "output_type": "stream",
     "text": [
      "[INFO] tello.py - 471 - Send command (no response expected): 'rc 0 0 0 0'\n",
      "[INFO] tello.py - 471 - Send command (no response expected): 'rc 0 0 0 0'\n"
     ]
    },
    {
     "name": "stdout",
     "output_type": "stream",
     "text": [
      "K_o\n",
      "K_p\n",
      "K_a\n",
      "K_d\n",
      "K_w\n",
      "K_s\n",
      "K_UP\n",
      "K_DOWN\n",
      "K_e\n",
      "K_r\n",
      "K_j\n",
      "K_u\n",
      "K_o\n",
      "K_p\n",
      "K_a\n",
      "K_d\n",
      "K_w\n",
      "K_s\n",
      "K_UP\n",
      "K_DOWN\n",
      "K_e\n",
      "K_r\n",
      "K_j\n",
      "K_u\n"
     ]
    },
    {
     "name": "stderr",
     "output_type": "stream",
     "text": [
      "[INFO] tello.py - 471 - Send command (no response expected): 'rc 0 0 0 0'\n",
      "[INFO] tello.py - 471 - Send command (no response expected): 'rc 0 0 0 0'\n"
     ]
    },
    {
     "name": "stdout",
     "output_type": "stream",
     "text": [
      "K_o\n",
      "K_p\n",
      "K_a\n",
      "K_d\n",
      "K_w\n",
      "K_s\n",
      "K_UP\n",
      "K_DOWN\n",
      "K_e\n",
      "K_r\n",
      "K_j\n",
      "K_u\n",
      "K_o\n",
      "K_p\n",
      "K_a\n",
      "K_d\n",
      "K_w\n",
      "K_s\n",
      "K_UP\n",
      "K_DOWN\n",
      "K_e\n",
      "K_r\n",
      "K_j\n",
      "K_u\n"
     ]
    },
    {
     "name": "stderr",
     "output_type": "stream",
     "text": [
      "[INFO] tello.py - 471 - Send command (no response expected): 'rc 0 0 0 0'\n"
     ]
    },
    {
     "name": "stdout",
     "output_type": "stream",
     "text": [
      "K_o\n",
      "K_p\n",
      "K_a\n",
      "K_d\n",
      "K_w\n",
      "K_s\n",
      "K_UP\n",
      "K_DOWN\n",
      "K_e\n",
      "K_r\n",
      "K_j\n",
      "K_u\n"
     ]
    },
    {
     "ename": "OSError",
     "evalue": "[Errno 51] Network is unreachable",
     "output_type": "error",
     "traceback": [
      "\u001b[0;31m---------------------------------------------------------------------------\u001b[0m",
      "\u001b[0;31mOSError\u001b[0m                                   Traceback (most recent call last)",
      "\u001b[1;32m/Users/being/Desktop/[github] workspace/NoCAP_flyingYOLO/[tracking]nocap.ipynb 셀 3\u001b[0m line \u001b[0;36m1\n\u001b[1;32m    <a href='vscode-notebook-cell:/Users/being/Desktop/%5Bgithub%5D%20workspace/NoCAP_flyingYOLO/%5Btracking%5Dnocap.ipynb#W3sZmlsZQ%3D%3D?line=113'>114</a>\u001b[0m \u001b[39m# 키보드 입력과 드론 제어 처리\u001b[39;00m\n\u001b[1;32m    <a href='vscode-notebook-cell:/Users/being/Desktop/%5Bgithub%5D%20workspace/NoCAP_flyingYOLO/%5Btracking%5Dnocap.ipynb#W3sZmlsZQ%3D%3D?line=114'>115</a>\u001b[0m vals \u001b[39m=\u001b[39m getKeyboardInput(me, kp)\n\u001b[0;32m--> <a href='vscode-notebook-cell:/Users/being/Desktop/%5Bgithub%5D%20workspace/NoCAP_flyingYOLO/%5Btracking%5Dnocap.ipynb#W3sZmlsZQ%3D%3D?line=115'>116</a>\u001b[0m me\u001b[39m.\u001b[39;49msend_rc_control(vals[\u001b[39m0\u001b[39;49m], vals[\u001b[39m1\u001b[39;49m], vals[\u001b[39m2\u001b[39;49m], vals[\u001b[39m3\u001b[39;49m])\n\u001b[1;32m    <a href='vscode-notebook-cell:/Users/being/Desktop/%5Bgithub%5D%20workspace/NoCAP_flyingYOLO/%5Btracking%5Dnocap.ipynb#W3sZmlsZQ%3D%3D?line=116'>117</a>\u001b[0m sleep(\u001b[39m0.05\u001b[39m)\n",
      "File \u001b[0;32m~/Library/Python/3.9/lib/python/site-packages/djitellopy/enforce_types.py:54\u001b[0m, in \u001b[0;36menforce_types.<locals>.decorate.<locals>.wrapper\u001b[0;34m(*args, **kwargs)\u001b[0m\n\u001b[1;32m     51\u001b[0m \u001b[39m@wraps\u001b[39m(func)\n\u001b[1;32m     52\u001b[0m \u001b[39mdef\u001b[39;00m \u001b[39mwrapper\u001b[39m(\u001b[39m*\u001b[39margs, \u001b[39m*\u001b[39m\u001b[39m*\u001b[39mkwargs):\n\u001b[1;32m     53\u001b[0m     check_types(spec, \u001b[39m*\u001b[39margs, \u001b[39m*\u001b[39m\u001b[39m*\u001b[39mkwargs)\n\u001b[0;32m---> 54\u001b[0m     \u001b[39mreturn\u001b[39;00m func(\u001b[39m*\u001b[39;49margs, \u001b[39m*\u001b[39;49m\u001b[39m*\u001b[39;49mkwargs)\n",
      "File \u001b[0;32m~/Library/Python/3.9/lib/python/site-packages/djitellopy/tello.py:835\u001b[0m, in \u001b[0;36mTello.send_rc_control\u001b[0;34m(self, left_right_velocity, forward_backward_velocity, up_down_velocity, yaw_velocity)\u001b[0m\n\u001b[1;32m    828\u001b[0m \u001b[39mself\u001b[39m\u001b[39m.\u001b[39mlast_rc_control_timestamp \u001b[39m=\u001b[39m time\u001b[39m.\u001b[39mtime()\n\u001b[1;32m    829\u001b[0m cmd \u001b[39m=\u001b[39m \u001b[39m'\u001b[39m\u001b[39mrc \u001b[39m\u001b[39m{}\u001b[39;00m\u001b[39m \u001b[39m\u001b[39m{}\u001b[39;00m\u001b[39m \u001b[39m\u001b[39m{}\u001b[39;00m\u001b[39m \u001b[39m\u001b[39m{}\u001b[39;00m\u001b[39m'\u001b[39m\u001b[39m.\u001b[39mformat(\n\u001b[1;32m    830\u001b[0m     clamp100(left_right_velocity),\n\u001b[1;32m    831\u001b[0m     clamp100(forward_backward_velocity),\n\u001b[1;32m    832\u001b[0m     clamp100(up_down_velocity),\n\u001b[1;32m    833\u001b[0m     clamp100(yaw_velocity)\n\u001b[1;32m    834\u001b[0m )\n\u001b[0;32m--> 835\u001b[0m \u001b[39mself\u001b[39;49m\u001b[39m.\u001b[39;49msend_command_without_return(cmd)\n",
      "File \u001b[0;32m~/Library/Python/3.9/lib/python/site-packages/djitellopy/enforce_types.py:54\u001b[0m, in \u001b[0;36menforce_types.<locals>.decorate.<locals>.wrapper\u001b[0;34m(*args, **kwargs)\u001b[0m\n\u001b[1;32m     51\u001b[0m \u001b[39m@wraps\u001b[39m(func)\n\u001b[1;32m     52\u001b[0m \u001b[39mdef\u001b[39;00m \u001b[39mwrapper\u001b[39m(\u001b[39m*\u001b[39margs, \u001b[39m*\u001b[39m\u001b[39m*\u001b[39mkwargs):\n\u001b[1;32m     53\u001b[0m     check_types(spec, \u001b[39m*\u001b[39margs, \u001b[39m*\u001b[39m\u001b[39m*\u001b[39mkwargs)\n\u001b[0;32m---> 54\u001b[0m     \u001b[39mreturn\u001b[39;00m func(\u001b[39m*\u001b[39;49margs, \u001b[39m*\u001b[39;49m\u001b[39m*\u001b[39;49mkwargs)\n",
      "File \u001b[0;32m~/Library/Python/3.9/lib/python/site-packages/djitellopy/tello.py:472\u001b[0m, in \u001b[0;36mTello.send_command_without_return\u001b[0;34m(self, command)\u001b[0m\n\u001b[1;32m    469\u001b[0m \u001b[39m# Commands very consecutive makes the drone not respond to them. So wait at least self.TIME_BTW_COMMANDS seconds\u001b[39;00m\n\u001b[1;32m    471\u001b[0m \u001b[39mself\u001b[39m\u001b[39m.\u001b[39mLOGGER\u001b[39m.\u001b[39minfo(\u001b[39m\"\u001b[39m\u001b[39mSend command (no response expected): \u001b[39m\u001b[39m'\u001b[39m\u001b[39m{}\u001b[39;00m\u001b[39m'\u001b[39m\u001b[39m\"\u001b[39m\u001b[39m.\u001b[39mformat(command))\n\u001b[0;32m--> 472\u001b[0m client_socket\u001b[39m.\u001b[39;49msendto(command\u001b[39m.\u001b[39;49mencode(\u001b[39m'\u001b[39;49m\u001b[39mutf-8\u001b[39;49m\u001b[39m'\u001b[39;49m), \u001b[39mself\u001b[39;49m\u001b[39m.\u001b[39;49maddress)\n",
      "\u001b[0;31mOSError\u001b[0m: [Errno 51] Network is unreachable"
     ]
    },
    {
     "ename": "",
     "evalue": "",
     "output_type": "error",
     "traceback": [
      "\u001b[1;31m현재 셀 또는 이전 셀에서 코드를 실행하는 동안 Kernel이 충돌했습니다. 셀의 코드를 검토하여 오류의 가능한 원인을 식별하세요. 자세한 내용을 보려면 <a href='https://aka.ms/vscodeJupyterKernelCrash'> 여기 </a> 를 클릭하세요. 자세한 내용은 Jupyter <a href='command:jupyter.viewOutput'>로그</a>를 참조하세요."
     ]
    }
   ],
   "source": [
    "from ultralytics import YOLO\n",
    "import cv2\n",
    "import math\n",
    "from time import sleep\n",
    "\n",
    "from djitellopy import tello\n",
    "import KeyPressModule as kp\n",
    "\n",
    "\n",
    "# model\n",
    "model = YOLO(\"yolo-Weights/yolov8n.pt\")\n",
    "\n",
    "# object classes\n",
    "classNames = [\"person\", \"bicycle\", \"car\", \"motorbike\", \"aeroplane\", \"bus\", \"train\", \"truck\", \"boat\",\n",
    "              \"traffic light\", \"fire hydrant\", \"stop sign\", \"parking meter\", \"bench\", \"bird\", \"cat\",\n",
    "              \"dog\", \"horse\", \"sheep\", \"cow\", \"elephant\", \"bear\", \"zebra\", \"giraffe\", \"backpack\", \"umbrella\",\n",
    "              \"handbag\", \"tie\", \"suitcase\", \"frisbee\", \"skis\", \"snowboard\", \"sports ball\", \"kite\", \"baseball bat\",\n",
    "              \"baseball glove\", \"skateboard\", \"surfboard\", \"tennis racket\", \"bottle\", \"wine glass\", \"cup\",\n",
    "              \"fork\", \"knife\", \"spoon\", \"bowl\", \"banana\", \"apple\", \"sandwich\", \"orange\", \"broccoli\",\n",
    "              \"carrot\", \"hot dog\", \"pizza\", \"donut\", \"cake\", \"chair\", \"sofa\", \"pottedplant\", \"bed\",\n",
    "              \"diningtable\", \"toilet\", \"tvmonitor\", \"laptop\", \"mouse\", \"remote\", \"keyboard\", \"cell phone\",\n",
    "              \"microwave\", \"oven\", \"toaster\", \"sink\", \"refrigerator\", \"book\", \"clock\", \"vase\", \"scissors\",\n",
    "              \"teddy bear\", \"hair drier\", \"toothbrush\"\n",
    "              ]\n",
    "\n",
    "# \"person\" 클래스의 인덱스 추출\n",
    "person_index = classNames.index(\"person\")\n",
    "\n",
    "def getKeyboardInput(me,kp):\n",
    "    lr, fb, ud, yv = 0, 0, 0, 0\n",
    "    speed = 50\n",
    "    if kp.getKey(\"a\"):\n",
    "        lr = -speed\n",
    "    elif kp.getKey(\"d\"):\n",
    "        lr = speed\n",
    "    if kp.getKey(\"w\"):\n",
    "        fb = speed\n",
    "    elif kp.getKey(\"s\"):\n",
    "        fb = -speed\n",
    "    if kp.getKey(\"UP\"):\n",
    "        ud = speed\n",
    "    elif kp.getKey(\"DOWN\"):\n",
    "        ud = -speed\n",
    "    if kp.getKey(\"e\"):\n",
    "        yv = -speed\n",
    "    elif kp.getKey(\"r\"):\n",
    "        yv = speed\n",
    "    if kp.getKey(\"j\"):\n",
    "        me.land()\n",
    "        sleep(3)\n",
    "    if kp.getKey(\"u\"):\n",
    "        me.takeoff()\n",
    "    return [lr, fb, ud, yv]\n",
    "\n",
    "input('텔로와 와이파이를 연결하시오 : (입력은 아무 키나 입력 후 엔터)')\n",
    "\n",
    "kp.init()\n",
    "me = tello.Tello()\n",
    "me.connect()\n",
    "print(me.get_battery())\n",
    "me.streamon()\n",
    "\n",
    "\n",
    "img_center_x = 600 // 2 # 이미지의 중앙을 계산\n",
    "detection_mode = False # 디텍팅 모드 상태 변수 (기본값은 False)\n",
    "\n",
    "while True:\n",
    "    # 카메라 스트리밍 처리\n",
    "    img = me.get_frame_read().frame\n",
    "    img = cv2.resize(img, (600, 400))\n",
    "\n",
    "    if kp.getKey(\"o\"):\n",
    "        detection_mode = 1  # on\n",
    "    if kp.getKey(\"p\"):\n",
    "        detection_mode = 0  # off\n",
    "\n",
    "    if detection_mode:\n",
    "        # YOLO 객체 탐지 코드\n",
    "        results = model(img, stream=True)\n",
    "        for r in results:\n",
    "            boxes = r.boxes\n",
    "            for box in boxes:\n",
    "                cls = int(box.cls[0])\n",
    "                # \"person\" 클래스만 탐지\n",
    "                if cls == person_index:\n",
    "                    x1, y1, x2, y2 = box.xyxy[0]\n",
    "                    x1, y1, x2, y2 = int(x1), int(y1), int(x2), int(y2)\n",
    "\n",
    "                    # 객체의 중앙 계산\n",
    "                    obj_center_x = (x1 + x2) // 2\n",
    "\n",
    "                    # 이미지 중앙과 객체 중앙 비교\n",
    "                    if obj_center_x < img_center_x - 20:  # 임계값은 조정이 필요합니다.\n",
    "                        # 드론을 왼쪽으로 회전\n",
    "                        me.rotate_counter_clockwise(10)  # 속도는 조정이 필요합니다.\n",
    "                    elif obj_center_x > img_center_x + 20:\n",
    "                        # 드론을 오른쪽으로 회전\n",
    "                        me.rotate_clockwise(10)\n",
    "\n",
    "                    # 객체 중앙점을 붉은색으로 그리기\n",
    "                    cv2.circle(img, (obj_center_x, (y1+y2)//2), 3, (0, 0, 255), -1)\n",
    "\n",
    "                    cv2.rectangle(img, (x1, y1), (x2, y2), (255, 0, 255), 3)\n",
    "                    org = [x1, y1]\n",
    "                    font = cv2.FONT_HERSHEY_SIMPLEX\n",
    "                    cv2.putText(img, classNames[cls], org, font, 1, (255, 0, 0), 2)\n",
    "    else:\n",
    "        # 디텍팅 모드가 꺼져있을 때 수행되는 코드 (여기서는 아무 것도 수행하지 않음)\n",
    "        pass\n",
    "    \n",
    "    cv2.imshow(\"Image\", img)\n",
    "    cv2.waitKey(1)\n",
    "\n",
    "    # 키보드 입력과 드론 제어 처리\n",
    "    vals = getKeyboardInput(me, kp)\n",
    "    me.send_rc_control(vals[0], vals[1], vals[2], vals[3])\n",
    "    sleep(0.05)"
   ]
  },
  {
   "cell_type": "code",
   "execution_count": null,
   "metadata": {},
   "outputs": [],
   "source": []
  }
 ],
 "metadata": {
  "kernelspec": {
   "display_name": "Python 3",
   "language": "python",
   "name": "python3"
  },
  "language_info": {
   "codemirror_mode": {
    "name": "ipython",
    "version": 3
   },
   "file_extension": ".py",
   "mimetype": "text/x-python",
   "name": "python",
   "nbconvert_exporter": "python",
   "pygments_lexer": "ipython3",
   "version": "3.9.6"
  }
 },
 "nbformat": 4,
 "nbformat_minor": 2
}
