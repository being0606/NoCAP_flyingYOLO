{
 "cells": [
  {
   "cell_type": "code",
   "execution_count": 1,
   "metadata": {},
   "outputs": [],
   "source": [
    "# !pip install djitellopy\n",
    "# !pip install djitellopy\n",
    "# !pip install pygame"
   ]
  },
  {
   "cell_type": "code",
   "execution_count": 6,
   "metadata": {},
   "outputs": [
    {
     "name": "stdout",
     "output_type": "stream",
     "text": [
      "Requirement already satisfied: djitellopy in /opt/homebrew/lib/python3.10/site-packages (2.5.0)\n",
      "Requirement already satisfied: numpy in /opt/homebrew/lib/python3.10/site-packages (from djitellopy) (1.26.1)\n",
      "Requirement already satisfied: opencv-python in /opt/homebrew/lib/python3.10/site-packages (from djitellopy) (4.6.0.66)\n",
      "Requirement already satisfied: av in /opt/homebrew/lib/python3.10/site-packages (from djitellopy) (10.0.0)\n",
      "Requirement already satisfied: pillow in /opt/homebrew/lib/python3.10/site-packages (from djitellopy) (10.1.0)\n"
     ]
    }
   ],
   "source": [
    "!pip install djitellopy"
   ]
  },
  {
   "cell_type": "code",
   "execution_count": 7,
   "metadata": {},
   "outputs": [
    {
     "ename": "ModuleNotFoundError",
     "evalue": "No module named 'djitellopy'",
     "output_type": "error",
     "traceback": [
      "\u001b[0;31m---------------------------------------------------------------------------\u001b[0m",
      "\u001b[0;31mModuleNotFoundError\u001b[0m                       Traceback (most recent call last)",
      "\u001b[1;32m/Users/being/Desktop/[github] workspace/NoCAP_flyingYOLO/test.ipynb 셀 3\u001b[0m line \u001b[0;36m1\n\u001b[0;32m----> <a href='vscode-notebook-cell:/Users/being/Desktop/%5Bgithub%5D%20workspace/NoCAP_flyingYOLO/test.ipynb#W6sZmlsZQ%3D%3D?line=0'>1</a>\u001b[0m \u001b[39mfrom\u001b[39;00m \u001b[39mdjitellopy\u001b[39;00m \u001b[39mimport\u001b[39;00m tello\n",
      "\u001b[0;31mModuleNotFoundError\u001b[0m: No module named 'djitellopy'"
     ]
    }
   ],
   "source": [
    "from djitellopy import tello"
   ]
  },
  {
   "cell_type": "code",
   "execution_count": 4,
   "metadata": {},
   "outputs": [
    {
     "ename": "ModuleNotFoundError",
     "evalue": "No module named 'djitellopy'",
     "output_type": "error",
     "traceback": [
      "\u001b[0;31m---------------------------------------------------------------------------\u001b[0m",
      "\u001b[0;31mModuleNotFoundError\u001b[0m                       Traceback (most recent call last)",
      "\u001b[1;32m/Users/being/Desktop/[github] workspace/NoCAP_flyingYOLO/test.ipynb 셀 4\u001b[0m line \u001b[0;36m1\n\u001b[0;32m----> <a href='vscode-notebook-cell:/Users/being/Desktop/%5Bgithub%5D%20workspace/NoCAP_flyingYOLO/test.ipynb#W2sZmlsZQ%3D%3D?line=0'>1</a>\u001b[0m \u001b[39mfrom\u001b[39;00m \u001b[39mdjitellopy\u001b[39;00m \u001b[39mimport\u001b[39;00m tello\n\u001b[1;32m      <a href='vscode-notebook-cell:/Users/being/Desktop/%5Bgithub%5D%20workspace/NoCAP_flyingYOLO/test.ipynb#W2sZmlsZQ%3D%3D?line=1'>2</a>\u001b[0m \u001b[39mimport\u001b[39;00m \u001b[39mKeyPressModule\u001b[39;00m \u001b[39mas\u001b[39;00m \u001b[39mkp\u001b[39;00m\n\u001b[1;32m      <a href='vscode-notebook-cell:/Users/being/Desktop/%5Bgithub%5D%20workspace/NoCAP_flyingYOLO/test.ipynb#W2sZmlsZQ%3D%3D?line=2'>3</a>\u001b[0m \u001b[39mimport\u001b[39;00m \u001b[39mcv2\u001b[39;00m\n",
      "\u001b[0;31mModuleNotFoundError\u001b[0m: No module named 'djitellopy'"
     ]
    }
   ],
   "source": [
    "from djitellopy import tello\n",
    "import KeyPressModule as kp\n",
    "import cv2\n",
    "from time import sleep\n",
    "\n",
    "kp.init()\n",
    "me = tello.Tello()\n",
    "me.connect()\n",
    "print(me.get_battery())\n",
    "me.streamon()\n",
    "\n",
    "\n",
    "def getKeyboardInput():\n",
    "    lr, fb, ud, yv = 0, 0, 0, 0\n",
    "    speed = 50\n",
    "    if kp.getKey(\"a\"):\n",
    "        lr = -speed\n",
    "    elif kp.getKey(\"d\"):\n",
    "        lr = speed\n",
    "    if kp.getKey(\"w\"):\n",
    "        fb = speed\n",
    "    elif kp.getKey(\"s\"):\n",
    "        fb = -speed\n",
    "    if kp.getKey(\"UP\"):\n",
    "        ud = speed\n",
    "    elif kp.getKey(\"DOWN\"):\n",
    "        ud = -speed\n",
    "    if kp.getKey(\"e\"):\n",
    "        yv = -speed\n",
    "    elif kp.getKey(\"r\"):\n",
    "        yv = speed\n",
    "    if kp.getKey(\"j\"):\n",
    "        me.land()\n",
    "        sleep(3)\n",
    "    if kp.getKey(\"u\"):\n",
    "        me.takeoff()\n",
    "    return [lr, fb, ud, yv]\n",
    "\n",
    "\n",
    "while True:\n",
    "    # 카메라 스트리밍 처리\n",
    "    img = me.get_frame_read().frame\n",
    "    img = cv2.resize(img, (600, 400))\n",
    "    cv2.imshow(\"Image\", img)\n",
    "    cv2.waitKey(1)\n",
    "\n",
    "    # 키보드 입력과 드론 제어 처리\n",
    "    vals = getKeyboardInput()\n",
    "    me.send_rc_control(vals[0], vals[1], vals[2], vals[3])\n",
    "    sleep(0.05)\n"
   ]
  },
  {
   "cell_type": "code",
   "execution_count": null,
   "metadata": {},
   "outputs": [],
   "source": []
  }
 ],
 "metadata": {
  "kernelspec": {
   "display_name": "Python 3",
   "language": "python",
   "name": "python3"
  },
  "language_info": {
   "codemirror_mode": {
    "name": "ipython",
    "version": 3
   },
   "file_extension": ".py",
   "mimetype": "text/x-python",
   "name": "python",
   "nbconvert_exporter": "python",
   "pygments_lexer": "ipython3",
   "version": "3.9.6"
  }
 },
 "nbformat": 4,
 "nbformat_minor": 2
}
