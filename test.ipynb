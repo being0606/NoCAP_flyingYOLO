{
 "cells": [
  {
   "cell_type": "code",
   "execution_count": 1,
   "metadata": {},
   "outputs": [
    {
     "name": "stdout",
     "output_type": "stream",
     "text": [
      "Collecting djitellopy\n",
      "  Downloading djitellopy-2.5.0-py3-none-any.whl.metadata (5.2 kB)\n",
      "Requirement already satisfied: numpy in /opt/homebrew/lib/python3.10/site-packages (from djitellopy) (1.26.1)\n",
      "Requirement already satisfied: opencv-python in /opt/homebrew/lib/python3.10/site-packages (from djitellopy) (4.6.0.66)\n",
      "Collecting av (from djitellopy)\n",
      "  Downloading av-10.0.0-cp310-cp310-macosx_11_0_arm64.whl (19.6 MB)\n",
      "\u001b[2K     \u001b[90m━━━━━━━━━━━━━━━━━━━━━━━━━━━━━━━━━━━━━━━━\u001b[0m \u001b[32m19.6/19.6 MB\u001b[0m \u001b[31m48.5 MB/s\u001b[0m eta \u001b[36m0:00:00\u001b[0ma \u001b[36m0:00:01\u001b[0m\n",
      "\u001b[?25hRequirement already satisfied: pillow in /opt/homebrew/lib/python3.10/site-packages (from djitellopy) (10.1.0)\n",
      "Downloading djitellopy-2.5.0-py3-none-any.whl (15 kB)\n",
      "Installing collected packages: av, djitellopy\n",
      "Successfully installed av-10.0.0 djitellopy-2.5.0\n"
     ]
    }
   ],
   "source": [
    "!pip install djitellopy"
   ]
  },
  {
   "cell_type": "code",
   "execution_count": null,
   "metadata": {},
   "outputs": [],
   "source": [
    "from djitellopy import tello"
   ]
  }
 ],
 "metadata": {
  "kernelspec": {
   "display_name": "Python 3",
   "language": "python",
   "name": "python3"
  },
  "language_info": {
   "codemirror_mode": {
    "name": "ipython",
    "version": 3
   },
   "file_extension": ".py",
   "mimetype": "text/x-python",
   "name": "python",
   "nbconvert_exporter": "python",
   "pygments_lexer": "ipython3",
   "version": "3.9.6"
  }
 },
 "nbformat": 4,
 "nbformat_minor": 2
}
