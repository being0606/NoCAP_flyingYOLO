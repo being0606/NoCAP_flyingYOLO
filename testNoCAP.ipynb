{
 "cells": [
  {
   "cell_type": "code",
   "execution_count": 1,
   "metadata": {},
   "outputs": [],
   "source": [
    "# !pip install djitellopy\n",
    "# !pip install djitellopy\n",
    "# !pip3 install pygame"
   ]
  },
  {
   "cell_type": "code",
   "execution_count": 2,
   "metadata": {},
   "outputs": [
    {
     "name": "stdout",
     "output_type": "stream",
     "text": [
      "Defaulting to user installation because normal site-packages is not writeable\n",
      "Requirement already satisfied: djitellopy in /Users/being/Library/Python/3.9/lib/python/site-packages (2.5.0)\n",
      "Requirement already satisfied: opencv-python in /Users/being/Library/Python/3.9/lib/python/site-packages (from djitellopy) (4.7.0.72)\n",
      "Requirement already satisfied: av in /Users/being/Library/Python/3.9/lib/python/site-packages (from djitellopy) (10.0.0)\n",
      "Requirement already satisfied: numpy in /Users/being/Library/Python/3.9/lib/python/site-packages (from djitellopy) (1.24.2)\n",
      "Requirement already satisfied: pillow in /Users/being/Library/Python/3.9/lib/python/site-packages (from djitellopy) (10.0.1)\n",
      "\u001b[33mWARNING: You are using pip version 21.2.4; however, version 23.3.1 is available.\n",
      "You should consider upgrading via the '/Applications/Xcode.app/Contents/Developer/usr/bin/python3 -m pip install --upgrade pip' command.\u001b[0m\n"
     ]
    }
   ],
   "source": [
    "!pip3 install djitellopy"
   ]
  },
  {
   "cell_type": "code",
   "execution_count": 6,
   "metadata": {},
   "outputs": [
    {
     "name": "stdout",
     "output_type": "stream",
     "text": [
      "Defaulting to user installation because normal site-packages is not writeable\n",
      "Collecting pygame\n",
      "  Downloading pygame-2.5.2-cp39-cp39-macosx_11_0_arm64.whl (12.2 MB)\n",
      "\u001b[K     |████████████████████████████████| 12.2 MB 7.2 MB/s eta 0:00:01\n",
      "\u001b[?25hInstalling collected packages: pygame\n",
      "Successfully installed pygame-2.5.2\n",
      "\u001b[33mWARNING: You are using pip version 21.2.4; however, version 23.3.1 is available.\n",
      "You should consider upgrading via the '/Applications/Xcode.app/Contents/Developer/usr/bin/python3 -m pip install --upgrade pip' command.\u001b[0m\n"
     ]
    }
   ],
   "source": [
    "!pip3 install pygame"
   ]
  },
  {
   "cell_type": "code",
   "execution_count": 3,
   "metadata": {},
   "outputs": [],
   "source": [
    "from djitellopy import tello"
   ]
  },
  {
   "cell_type": "code",
   "execution_count": null,
   "metadata": {},
   "outputs": [
    {
     "name": "stdout",
     "output_type": "stream",
     "text": [
      "pygame 2.5.2 (SDL 2.28.3, Python 3.9.6)\n",
      "Hello from the pygame community. https://www.pygame.org/contribute.html\n"
     ]
    },
    {
     "name": "stderr",
     "output_type": "stream",
     "text": [
      "2023-11-01 21:59:51.027 Python[1808:17113] WARNING: Secure coding is automatically enabled for restorable state! However, not on all supported macOS versions of this application. Opt-in to secure coding explicitly by implementing NSApplicationDelegate.applicationSupportsSecureRestorableState:.\n",
      "[INFO] tello.py - 129 - Tello instance was initialized. Host: '192.168.10.1'. Port: '8889'.\n",
      "[INFO] tello.py - 438 - Send command: 'command'\n",
      "[ERROR] tello.py - 458 - 'utf-8' codec can't decode byte 0xcc in position 0: invalid continuation byte\n",
      "[INFO] tello.py - 438 - Send command: 'command'\n",
      "[INFO] tello.py - 462 - Response command: 'ok'\n",
      "[INFO] tello.py - 438 - Send command: 'streamon'\n",
      "[INFO] tello.py - 462 - Response streamon: 'ok'\n"
     ]
    },
    {
     "name": "stdout",
     "output_type": "stream",
     "text": [
      "30\n"
     ]
    },
    {
     "name": "stderr",
     "output_type": "stream",
     "text": [
      "non-existing PPS 0 referenced\n",
      "non-existing PPS 0 referenced\n",
      "decode_slice_header error\n",
      "no frame!\n",
      "non-existing PPS 0 referenced\n",
      "non-existing PPS 0 referenced\n",
      "decode_slice_header error\n",
      "no frame!\n",
      "non-existing PPS 0 referenced\n",
      "non-existing PPS 0 referenced\n",
      "decode_slice_header error\n",
      "no frame!\n",
      "non-existing PPS 0 referenced\n",
      "non-existing PPS 0 referenced\n",
      "decode_slice_header error\n",
      "no frame!\n",
      "non-existing PPS 0 referenced\n",
      "non-existing PPS 0 referenced\n",
      "decode_slice_header error\n",
      "no frame!\n",
      "non-existing PPS 0 referenced\n",
      "non-existing PPS 0 referenced\n",
      "decode_slice_header error\n",
      "no frame!\n",
      "non-existing PPS 0 referenced\n",
      "non-existing PPS 0 referenced\n",
      "decode_slice_header error\n",
      "no frame!\n",
      "non-existing PPS 0 referenced\n",
      "non-existing PPS 0 referenced\n",
      "decode_slice_header error\n",
      "no frame!\n",
      "non-existing PPS 0 referenced\n",
      "non-existing PPS 0 referenced\n",
      "decode_slice_header error\n",
      "no frame!\n",
      "non-existing PPS 0 referenced\n",
      "non-existing PPS 0 referenced\n",
      "decode_slice_header error\n",
      "no frame!\n",
      "non-existing PPS 0 referenced\n",
      "non-existing PPS 0 referenced\n",
      "decode_slice_header error\n",
      "no frame!\n",
      "non-existing PPS 0 referenced\n",
      "non-existing PPS 0 referenced\n",
      "decode_slice_header error\n",
      "no frame!\n",
      "non-existing PPS 0 referenced\n",
      "non-existing PPS 0 referenced\n",
      "decode_slice_header error\n",
      "no frame!\n",
      "No accelerated colorspace conversion found from yuv420p to rgb24.\n",
      "[INFO] tello.py - 471 - Send command (no response expected): 'rc 0 0 0 0'\n",
      "[INFO] tello.py - 471 - Send command (no response expected): 'rc 0 0 0 0'\n"
     ]
    },
    {
     "name": "stdout",
     "output_type": "stream",
     "text": [
      "K_a\n",
      "K_d\n",
      "K_w\n",
      "K_s\n",
      "K_UP\n",
      "K_DOWN\n",
      "K_e\n",
      "K_r\n",
      "K_j\n",
      "K_u\n",
      "K_a\n",
      "K_d\n",
      "K_w\n",
      "K_s\n",
      "K_UP\n",
      "K_DOWN\n",
      "K_e\n",
      "K_r\n",
      "K_j\n",
      "K_u\n"
     ]
    },
    {
     "name": "stderr",
     "output_type": "stream",
     "text": [
      "[INFO] tello.py - 471 - Send command (no response expected): 'rc 0 0 0 0'\n",
      "[INFO] tello.py - 471 - Send command (no response expected): 'rc 0 0 0 0'\n"
     ]
    },
    {
     "name": "stdout",
     "output_type": "stream",
     "text": [
      "K_a\n",
      "K_d\n",
      "K_w\n",
      "K_s\n",
      "K_UP\n",
      "K_DOWN\n",
      "K_e\n",
      "K_r\n",
      "K_j\n",
      "K_u\n",
      "K_a\n",
      "K_d\n",
      "K_w\n",
      "K_s\n",
      "K_UP\n",
      "K_DOWN\n",
      "K_e\n",
      "K_r\n",
      "K_j\n",
      "K_u\n"
     ]
    },
    {
     "name": "stderr",
     "output_type": "stream",
     "text": [
      "[INFO] tello.py - 471 - Send command (no response expected): 'rc 0 0 0 0'\n",
      "[INFO] tello.py - 471 - Send command (no response expected): 'rc 0 0 0 0'\n"
     ]
    },
    {
     "name": "stdout",
     "output_type": "stream",
     "text": [
      "K_a\n",
      "K_d\n",
      "K_w\n",
      "K_s\n",
      "K_UP\n",
      "K_DOWN\n",
      "K_e\n",
      "K_r\n",
      "K_j\n",
      "K_u\n",
      "K_a\n",
      "K_d\n",
      "K_w\n",
      "K_s\n",
      "K_UP\n",
      "K_DOWN\n",
      "K_e\n",
      "K_r\n",
      "K_j\n",
      "K_u\n"
     ]
    },
    {
     "name": "stderr",
     "output_type": "stream",
     "text": [
      "[INFO] tello.py - 471 - Send command (no response expected): 'rc 0 0 0 0'\n",
      "[INFO] tello.py - 471 - Send command (no response expected): 'rc 0 0 0 0'\n"
     ]
    },
    {
     "name": "stdout",
     "output_type": "stream",
     "text": [
      "K_a\n",
      "K_d\n",
      "K_w\n",
      "K_s\n",
      "K_UP\n",
      "K_DOWN\n",
      "K_e\n",
      "K_r\n",
      "K_j\n",
      "K_u\n",
      "K_a\n",
      "K_d\n",
      "K_w\n",
      "K_s\n",
      "K_UP\n",
      "K_DOWN\n",
      "K_e\n",
      "K_r\n",
      "K_j\n",
      "K_u\n"
     ]
    },
    {
     "name": "stderr",
     "output_type": "stream",
     "text": [
      "[INFO] tello.py - 471 - Send command (no response expected): 'rc 0 0 0 0'\n"
     ]
    },
    {
     "name": "stdout",
     "output_type": "stream",
     "text": [
      "K_a\n",
      "K_d\n",
      "K_w\n",
      "K_s\n",
      "K_UP\n",
      "K_DOWN\n",
      "K_e\n",
      "K_r\n",
      "K_j\n",
      "K_u\n",
      "K_a\n",
      "K_d\n",
      "K_w\n",
      "K_s\n",
      "K_UP\n"
     ]
    },
    {
     "name": "stderr",
     "output_type": "stream",
     "text": [
      "[INFO] tello.py - 471 - Send command (no response expected): 'rc 0 0 0 0'\n"
     ]
    },
    {
     "name": "stdout",
     "output_type": "stream",
     "text": [
      "K_DOWN\n",
      "K_e\n",
      "K_r\n",
      "K_j\n",
      "K_u\n",
      "K_a\n",
      "K_d\n",
      "K_w\n",
      "K_s\n",
      "K_UP\n",
      "K_DOWN\n",
      "K_e\n"
     ]
    },
    {
     "name": "stderr",
     "output_type": "stream",
     "text": [
      "[INFO] tello.py - 471 - Send command (no response expected): 'rc 0 0 0 0'\n"
     ]
    },
    {
     "name": "stdout",
     "output_type": "stream",
     "text": [
      "K_r\n",
      "K_j\n",
      "K_u\n",
      "K_a\n",
      "K_d\n",
      "K_w\n",
      "K_s\n",
      "K_UP\n",
      "K_DOWN\n",
      "K_e\n",
      "K_r\n",
      "K_j\n"
     ]
    },
    {
     "name": "stderr",
     "output_type": "stream",
     "text": [
      "[INFO] tello.py - 471 - Send command (no response expected): 'rc 0 0 0 0'\n"
     ]
    },
    {
     "name": "stdout",
     "output_type": "stream",
     "text": [
      "K_u\n",
      "K_a\n",
      "K_d\n",
      "K_w\n",
      "K_s\n",
      "K_UP\n",
      "K_DOWN\n",
      "K_e\n",
      "K_r\n",
      "K_j\n",
      "K_u\n"
     ]
    },
    {
     "name": "stderr",
     "output_type": "stream",
     "text": [
      "[INFO] tello.py - 471 - Send command (no response expected): 'rc 0 0 0 0'\n",
      "[INFO] tello.py - 471 - Send command (no response expected): 'rc 0 0 0 0'\n"
     ]
    },
    {
     "name": "stdout",
     "output_type": "stream",
     "text": [
      "K_a\n",
      "K_d\n",
      "K_w\n",
      "K_s\n",
      "K_UP\n",
      "K_DOWN\n",
      "K_e\n",
      "K_r\n",
      "K_j\n",
      "K_u\n",
      "K_a\n",
      "K_d\n",
      "K_w\n",
      "K_s\n"
     ]
    },
    {
     "name": "stderr",
     "output_type": "stream",
     "text": [
      "[INFO] tello.py - 471 - Send command (no response expected): 'rc 0 0 0 0'\n"
     ]
    },
    {
     "name": "stdout",
     "output_type": "stream",
     "text": [
      "K_UP\n",
      "K_DOWN\n",
      "K_e\n",
      "K_r\n",
      "K_j\n",
      "K_u\n",
      "K_a\n",
      "K_d\n",
      "K_w\n",
      "K_s\n",
      "K_UP\n"
     ]
    },
    {
     "name": "stderr",
     "output_type": "stream",
     "text": [
      "[INFO] tello.py - 471 - Send command (no response expected): 'rc 0 0 0 0'\n"
     ]
    },
    {
     "name": "stdout",
     "output_type": "stream",
     "text": [
      "K_DOWN\n",
      "K_e\n",
      "K_r\n",
      "K_j\n",
      "K_u\n",
      "K_a\n",
      "K_d\n",
      "K_w\n",
      "K_s\n",
      "K_UP\n",
      "K_DOWN\n"
     ]
    },
    {
     "name": "stderr",
     "output_type": "stream",
     "text": [
      "[INFO] tello.py - 471 - Send command (no response expected): 'rc 0 0 0 0'\n"
     ]
    },
    {
     "name": "stdout",
     "output_type": "stream",
     "text": [
      "K_e\n",
      "K_r\n",
      "K_j\n",
      "K_u\n",
      "K_a\n",
      "K_d\n",
      "K_w\n",
      "K_s\n",
      "K_UP\n",
      "K_DOWN\n",
      "K_e\n",
      "K_r\n"
     ]
    },
    {
     "name": "stderr",
     "output_type": "stream",
     "text": [
      "[INFO] tello.py - 471 - Send command (no response expected): 'rc 0 0 0 0'\n"
     ]
    },
    {
     "name": "stdout",
     "output_type": "stream",
     "text": [
      "K_j\n",
      "K_u\n",
      "K_a\n",
      "K_d\n",
      "K_w\n",
      "K_s\n",
      "K_UP\n",
      "K_DOWN\n",
      "K_e\n",
      "K_r\n",
      "K_j\n",
      "K_u\n"
     ]
    },
    {
     "name": "stderr",
     "output_type": "stream",
     "text": [
      "[INFO] tello.py - 471 - Send command (no response expected): 'rc 0 0 0 0'\n",
      "[INFO] tello.py - 471 - Send command (no response expected): 'rc 0 0 0 0'\n"
     ]
    },
    {
     "name": "stdout",
     "output_type": "stream",
     "text": [
      "K_a\n",
      "K_d\n",
      "K_w\n",
      "K_s\n",
      "K_UP\n",
      "K_DOWN\n",
      "K_e\n",
      "K_r\n",
      "K_j\n",
      "K_u\n",
      "K_a\n",
      "K_d\n",
      "K_w\n",
      "K_s\n",
      "K_UP\n"
     ]
    },
    {
     "name": "stderr",
     "output_type": "stream",
     "text": [
      "[INFO] tello.py - 471 - Send command (no response expected): 'rc 0 0 0 0'\n"
     ]
    },
    {
     "name": "stdout",
     "output_type": "stream",
     "text": [
      "K_DOWN\n",
      "K_e\n",
      "K_r\n",
      "K_j\n",
      "K_u\n",
      "K_a\n",
      "K_d\n",
      "K_w\n",
      "K_s\n",
      "K_UP\n",
      "K_DOWN\n",
      "K_e\n",
      "K_r\n"
     ]
    },
    {
     "name": "stderr",
     "output_type": "stream",
     "text": [
      "[INFO] tello.py - 471 - Send command (no response expected): 'rc 0 0 0 0'\n"
     ]
    },
    {
     "name": "stdout",
     "output_type": "stream",
     "text": [
      "K_j\n",
      "K_u\n",
      "K_a\n",
      "K_d\n",
      "K_w\n",
      "K_s\n",
      "K_UP\n",
      "K_DOWN\n",
      "K_e\n",
      "K_r\n",
      "K_j\n",
      "K_u\n"
     ]
    },
    {
     "name": "stderr",
     "output_type": "stream",
     "text": [
      "[INFO] tello.py - 471 - Send command (no response expected): 'rc 0 0 0 0'\n",
      "[INFO] tello.py - 471 - Send command (no response expected): 'rc 0 0 0 0'\n"
     ]
    },
    {
     "name": "stdout",
     "output_type": "stream",
     "text": [
      "K_a\n",
      "K_d\n",
      "K_w\n",
      "K_s\n",
      "K_UP\n",
      "K_DOWN\n",
      "K_e\n",
      "K_r\n",
      "K_j\n",
      "K_u\n",
      "K_a\n",
      "K_d\n",
      "K_w\n",
      "K_s\n",
      "K_UP\n"
     ]
    },
    {
     "name": "stderr",
     "output_type": "stream",
     "text": [
      "[INFO] tello.py - 471 - Send command (no response expected): 'rc 0 0 0 0'\n"
     ]
    },
    {
     "name": "stdout",
     "output_type": "stream",
     "text": [
      "K_DOWN\n",
      "K_e\n",
      "K_r\n",
      "K_j\n",
      "K_u\n",
      "K_a\n",
      "K_d\n",
      "K_w\n",
      "K_s\n",
      "K_UP\n",
      "K_DOWN\n",
      "K_e\n"
     ]
    },
    {
     "name": "stderr",
     "output_type": "stream",
     "text": [
      "[INFO] tello.py - 471 - Send command (no response expected): 'rc 0 0 0 0'\n"
     ]
    },
    {
     "name": "stdout",
     "output_type": "stream",
     "text": [
      "K_r\n",
      "K_j\n",
      "K_u\n",
      "K_a\n",
      "K_d\n",
      "K_w\n",
      "K_s\n",
      "K_UP\n",
      "K_DOWN\n",
      "K_e\n",
      "K_r\n"
     ]
    },
    {
     "name": "stderr",
     "output_type": "stream",
     "text": [
      "[INFO] tello.py - 471 - Send command (no response expected): 'rc 0 0 0 0'\n"
     ]
    },
    {
     "name": "stdout",
     "output_type": "stream",
     "text": [
      "K_j\n",
      "K_u\n",
      "K_a\n",
      "K_d\n",
      "K_w\n",
      "K_s\n",
      "K_UP\n",
      "K_DOWN\n",
      "K_e\n",
      "K_r\n",
      "K_j\n"
     ]
    },
    {
     "name": "stderr",
     "output_type": "stream",
     "text": [
      "[INFO] tello.py - 471 - Send command (no response expected): 'rc 0 0 0 0'\n",
      "[INFO] tello.py - 471 - Send command (no response expected): 'rc 0 0 0 0'\n"
     ]
    },
    {
     "name": "stdout",
     "output_type": "stream",
     "text": [
      "K_u\n",
      "K_a\n",
      "K_d\n",
      "K_w\n",
      "K_s\n",
      "K_UP\n",
      "K_DOWN\n",
      "K_e\n",
      "K_r\n",
      "K_j\n",
      "K_u\n"
     ]
    },
    {
     "name": "stderr",
     "output_type": "stream",
     "text": [
      "[INFO] tello.py - 471 - Send command (no response expected): 'rc 0 0 0 0'\n"
     ]
    },
    {
     "name": "stdout",
     "output_type": "stream",
     "text": [
      "K_a\n",
      "K_d\n",
      "K_w\n",
      "K_s\n",
      "K_UP\n",
      "K_DOWN\n",
      "K_e\n",
      "K_r\n",
      "K_j\n",
      "K_u\n",
      "K_a\n",
      "K_d\n",
      "K_w\n",
      "K_s\n",
      "K_UP\n"
     ]
    },
    {
     "name": "stderr",
     "output_type": "stream",
     "text": [
      "[INFO] tello.py - 471 - Send command (no response expected): 'rc 0 0 0 0'\n"
     ]
    },
    {
     "name": "stdout",
     "output_type": "stream",
     "text": [
      "K_DOWN\n",
      "K_e\n",
      "K_r\n",
      "K_j\n",
      "K_u\n",
      "K_a\n",
      "K_d\n",
      "K_w\n",
      "K_s\n",
      "K_UP\n",
      "K_DOWN\n"
     ]
    },
    {
     "name": "stderr",
     "output_type": "stream",
     "text": [
      "[INFO] tello.py - 471 - Send command (no response expected): 'rc 0 0 0 0'\n"
     ]
    },
    {
     "name": "stdout",
     "output_type": "stream",
     "text": [
      "K_e\n",
      "K_r\n",
      "K_j\n",
      "K_u\n",
      "K_a\n",
      "K_d\n",
      "K_w\n",
      "K_s\n",
      "K_UP\n",
      "K_DOWN\n",
      "K_e\n",
      "K_r\n"
     ]
    },
    {
     "name": "stderr",
     "output_type": "stream",
     "text": [
      "[INFO] tello.py - 471 - Send command (no response expected): 'rc 0 0 0 0'\n"
     ]
    },
    {
     "name": "stdout",
     "output_type": "stream",
     "text": [
      "K_j\n",
      "K_u\n",
      "K_a\n",
      "K_d\n",
      "K_w\n",
      "K_s\n",
      "K_UP\n",
      "K_DOWN\n",
      "K_e\n",
      "K_r\n",
      "K_j\n"
     ]
    },
    {
     "name": "stderr",
     "output_type": "stream",
     "text": [
      "[INFO] tello.py - 471 - Send command (no response expected): 'rc 0 0 0 0'\n"
     ]
    },
    {
     "name": "stdout",
     "output_type": "stream",
     "text": [
      "K_u\n",
      "K_a\n",
      "K_d\n",
      "K_w\n",
      "K_s\n",
      "K_UP\n",
      "K_DOWN\n",
      "K_e\n",
      "K_r\n",
      "K_j\n",
      "K_u\n"
     ]
    },
    {
     "name": "stderr",
     "output_type": "stream",
     "text": [
      "[INFO] tello.py - 471 - Send command (no response expected): 'rc 0 0 0 0'\n",
      "[INFO] tello.py - 471 - Send command (no response expected): 'rc 0 0 0 0'\n"
     ]
    },
    {
     "name": "stdout",
     "output_type": "stream",
     "text": [
      "K_a\n",
      "K_d\n",
      "K_w\n",
      "K_s\n",
      "K_UP\n",
      "K_DOWN\n",
      "K_e\n",
      "K_r\n",
      "K_j\n",
      "K_u\n",
      "K_a\n",
      "K_d\n",
      "K_w\n",
      "K_s\n",
      "K_UP\n"
     ]
    },
    {
     "name": "stderr",
     "output_type": "stream",
     "text": [
      "[INFO] tello.py - 471 - Send command (no response expected): 'rc 0 0 0 0'\n"
     ]
    },
    {
     "name": "stdout",
     "output_type": "stream",
     "text": [
      "K_DOWN\n",
      "K_e\n",
      "K_r\n",
      "K_j\n",
      "K_u\n",
      "K_a\n",
      "K_d\n",
      "K_w\n",
      "K_s\n",
      "K_UP\n",
      "K_DOWN\n",
      "K_e\n"
     ]
    },
    {
     "name": "stderr",
     "output_type": "stream",
     "text": [
      "[INFO] tello.py - 471 - Send command (no response expected): 'rc 0 0 0 0'\n"
     ]
    },
    {
     "name": "stdout",
     "output_type": "stream",
     "text": [
      "K_r\n",
      "K_j\n",
      "K_u\n",
      "K_a\n",
      "K_d\n",
      "K_w\n",
      "K_s\n",
      "K_UP\n",
      "K_DOWN\n",
      "K_e\n",
      "K_r\n",
      "K_j\n"
     ]
    },
    {
     "name": "stderr",
     "output_type": "stream",
     "text": [
      "[INFO] tello.py - 471 - Send command (no response expected): 'rc 0 0 0 0'\n",
      "2023-11-01 22:00:02.930 Python[1808:17113] TSM AdjustCapsLockLEDForKeyTransitionHandling - _ISSetPhysicalKeyboardCapsLockLED Inhibit\n",
      "[INFO] tello.py - 438 - Send command: 'takeoff'\n"
     ]
    },
    {
     "name": "stdout",
     "output_type": "stream",
     "text": [
      "K_u\n",
      "K_a\n",
      "K_d\n",
      "K_w\n",
      "K_s\n",
      "K_UP\n",
      "K_DOWN\n",
      "K_e\n",
      "K_r\n",
      "K_j\n",
      "K_u\n"
     ]
    },
    {
     "name": "stderr",
     "output_type": "stream",
     "text": [
      "[INFO] tello.py - 462 - Response takeoff: 'ok'\n",
      "[INFO] tello.py - 471 - Send command (no response expected): 'rc 0 0 0 0'\n",
      "[INFO] tello.py - 438 - Send command: 'takeoff'\n"
     ]
    },
    {
     "name": "stdout",
     "output_type": "stream",
     "text": [
      "K_a\n",
      "K_d\n",
      "K_w\n",
      "K_s\n",
      "K_UP\n",
      "K_DOWN\n",
      "K_e\n",
      "K_r\n",
      "K_j\n",
      "K_u\n"
     ]
    },
    {
     "name": "stderr",
     "output_type": "stream",
     "text": [
      "[INFO] tello.py - 462 - Response takeoff: 'error'\n",
      "[INFO] tello.py - 438 - Send command: 'takeoff'\n",
      "[INFO] tello.py - 462 - Response takeoff: 'error'\n",
      "[INFO] tello.py - 438 - Send command: 'takeoff'\n",
      "[INFO] tello.py - 462 - Response takeoff: 'error'\n"
     ]
    },
    {
     "ename": "TelloException",
     "evalue": "Command 'takeoff' was unsuccessful for 4 tries. Latest response:\t'error'",
     "output_type": "error",
     "traceback": [
      "\u001b[0;31m---------------------------------------------------------------------------\u001b[0m",
      "\u001b[0;31mTelloException\u001b[0m                            Traceback (most recent call last)",
      "\u001b[1;32m/Users/being/Desktop/[github] workspace/NoCAP_flyingYOLO/test.ipynb 셀 5\u001b[0m line \u001b[0;36m4\n\u001b[1;32m     <a href='vscode-notebook-cell:/Users/being/Desktop/%5Bgithub%5D%20workspace/NoCAP_flyingYOLO/test.ipynb#W3sZmlsZQ%3D%3D?line=44'>45</a>\u001b[0m cv2\u001b[39m.\u001b[39mwaitKey(\u001b[39m1\u001b[39m)\n\u001b[1;32m     <a href='vscode-notebook-cell:/Users/being/Desktop/%5Bgithub%5D%20workspace/NoCAP_flyingYOLO/test.ipynb#W3sZmlsZQ%3D%3D?line=46'>47</a>\u001b[0m \u001b[39m# 키보드 입력과 드론 제어 처리\u001b[39;00m\n\u001b[0;32m---> <a href='vscode-notebook-cell:/Users/being/Desktop/%5Bgithub%5D%20workspace/NoCAP_flyingYOLO/test.ipynb#W3sZmlsZQ%3D%3D?line=47'>48</a>\u001b[0m vals \u001b[39m=\u001b[39m getKeyboardInput()\n\u001b[1;32m     <a href='vscode-notebook-cell:/Users/being/Desktop/%5Bgithub%5D%20workspace/NoCAP_flyingYOLO/test.ipynb#W3sZmlsZQ%3D%3D?line=48'>49</a>\u001b[0m me\u001b[39m.\u001b[39msend_rc_control(vals[\u001b[39m0\u001b[39m], vals[\u001b[39m1\u001b[39m], vals[\u001b[39m2\u001b[39m], vals[\u001b[39m3\u001b[39m])\n\u001b[1;32m     <a href='vscode-notebook-cell:/Users/being/Desktop/%5Bgithub%5D%20workspace/NoCAP_flyingYOLO/test.ipynb#W3sZmlsZQ%3D%3D?line=49'>50</a>\u001b[0m sleep(\u001b[39m0.05\u001b[39m)\n",
      "\u001b[1;32m/Users/being/Desktop/[github] workspace/NoCAP_flyingYOLO/test.ipynb 셀 5\u001b[0m line \u001b[0;36m3\n\u001b[1;32m     <a href='vscode-notebook-cell:/Users/being/Desktop/%5Bgithub%5D%20workspace/NoCAP_flyingYOLO/test.ipynb#W3sZmlsZQ%3D%3D?line=33'>34</a>\u001b[0m     sleep(\u001b[39m3\u001b[39m)\n\u001b[1;32m     <a href='vscode-notebook-cell:/Users/being/Desktop/%5Bgithub%5D%20workspace/NoCAP_flyingYOLO/test.ipynb#W3sZmlsZQ%3D%3D?line=34'>35</a>\u001b[0m \u001b[39mif\u001b[39;00m kp\u001b[39m.\u001b[39mgetKey(\u001b[39m\"\u001b[39m\u001b[39mu\u001b[39m\u001b[39m\"\u001b[39m):\n\u001b[0;32m---> <a href='vscode-notebook-cell:/Users/being/Desktop/%5Bgithub%5D%20workspace/NoCAP_flyingYOLO/test.ipynb#W3sZmlsZQ%3D%3D?line=35'>36</a>\u001b[0m     me\u001b[39m.\u001b[39;49mtakeoff()\n\u001b[1;32m     <a href='vscode-notebook-cell:/Users/being/Desktop/%5Bgithub%5D%20workspace/NoCAP_flyingYOLO/test.ipynb#W3sZmlsZQ%3D%3D?line=36'>37</a>\u001b[0m \u001b[39mreturn\u001b[39;00m [lr, fb, ud, yv]\n",
      "File \u001b[0;32m~/Library/Python/3.9/lib/python/site-packages/djitellopy/enforce_types.py:54\u001b[0m, in \u001b[0;36menforce_types.<locals>.decorate.<locals>.wrapper\u001b[0;34m(*args, **kwargs)\u001b[0m\n\u001b[1;32m     51\u001b[0m \u001b[39m@wraps\u001b[39m(func)\n\u001b[1;32m     52\u001b[0m \u001b[39mdef\u001b[39;00m \u001b[39mwrapper\u001b[39m(\u001b[39m*\u001b[39margs, \u001b[39m*\u001b[39m\u001b[39m*\u001b[39mkwargs):\n\u001b[1;32m     53\u001b[0m     check_types(spec, \u001b[39m*\u001b[39margs, \u001b[39m*\u001b[39m\u001b[39m*\u001b[39mkwargs)\n\u001b[0;32m---> 54\u001b[0m     \u001b[39mreturn\u001b[39;00m func(\u001b[39m*\u001b[39;49margs, \u001b[39m*\u001b[39;49m\u001b[39m*\u001b[39;49mkwargs)\n",
      "File \u001b[0;32m~/Library/Python/3.9/lib/python/site-packages/djitellopy/tello.py:575\u001b[0m, in \u001b[0;36mTello.takeoff\u001b[0;34m(self)\u001b[0m\n\u001b[1;32m    571\u001b[0m \u001b[39m\u001b[39m\u001b[39m\"\"\"Automatic takeoff.\u001b[39;00m\n\u001b[1;32m    572\u001b[0m \u001b[39m\"\"\"\u001b[39;00m\n\u001b[1;32m    573\u001b[0m \u001b[39m# Something it takes a looooot of time to take off and return a succesful takeoff.\u001b[39;00m\n\u001b[1;32m    574\u001b[0m \u001b[39m# So we better wait. Otherwise, it would give us an error on the following calls.\u001b[39;00m\n\u001b[0;32m--> 575\u001b[0m \u001b[39mself\u001b[39;49m\u001b[39m.\u001b[39;49msend_control_command(\u001b[39m\"\u001b[39;49m\u001b[39mtakeoff\u001b[39;49m\u001b[39m\"\u001b[39;49m, timeout\u001b[39m=\u001b[39;49mTello\u001b[39m.\u001b[39;49mTAKEOFF_TIMEOUT)\n\u001b[1;32m    576\u001b[0m \u001b[39mself\u001b[39m\u001b[39m.\u001b[39mis_flying \u001b[39m=\u001b[39m \u001b[39mTrue\u001b[39;00m\n",
      "File \u001b[0;32m~/Library/Python/3.9/lib/python/site-packages/djitellopy/enforce_types.py:54\u001b[0m, in \u001b[0;36menforce_types.<locals>.decorate.<locals>.wrapper\u001b[0;34m(*args, **kwargs)\u001b[0m\n\u001b[1;32m     51\u001b[0m \u001b[39m@wraps\u001b[39m(func)\n\u001b[1;32m     52\u001b[0m \u001b[39mdef\u001b[39;00m \u001b[39mwrapper\u001b[39m(\u001b[39m*\u001b[39margs, \u001b[39m*\u001b[39m\u001b[39m*\u001b[39mkwargs):\n\u001b[1;32m     53\u001b[0m     check_types(spec, \u001b[39m*\u001b[39margs, \u001b[39m*\u001b[39m\u001b[39m*\u001b[39mkwargs)\n\u001b[0;32m---> 54\u001b[0m     \u001b[39mreturn\u001b[39;00m func(\u001b[39m*\u001b[39;49margs, \u001b[39m*\u001b[39;49m\u001b[39m*\u001b[39;49mkwargs)\n",
      "File \u001b[0;32m~/Library/Python/3.9/lib/python/site-packages/djitellopy/tello.py:487\u001b[0m, in \u001b[0;36mTello.send_control_command\u001b[0;34m(self, command, timeout)\u001b[0m\n\u001b[1;32m    483\u001b[0m         \u001b[39mreturn\u001b[39;00m \u001b[39mTrue\u001b[39;00m\n\u001b[1;32m    485\u001b[0m     \u001b[39mself\u001b[39m\u001b[39m.\u001b[39mLOGGER\u001b[39m.\u001b[39mdebug(\u001b[39m\"\u001b[39m\u001b[39mCommand attempt #\u001b[39m\u001b[39m{}\u001b[39;00m\u001b[39m failed for command: \u001b[39m\u001b[39m'\u001b[39m\u001b[39m{}\u001b[39;00m\u001b[39m'\u001b[39m\u001b[39m\"\u001b[39m\u001b[39m.\u001b[39mformat(i, command))\n\u001b[0;32m--> 487\u001b[0m \u001b[39mself\u001b[39;49m\u001b[39m.\u001b[39;49mraise_result_error(command, response)\n\u001b[1;32m    488\u001b[0m \u001b[39mreturn\u001b[39;00m \u001b[39mFalse\u001b[39;00m\n",
      "File \u001b[0;32m~/Library/Python/3.9/lib/python/site-packages/djitellopy/enforce_types.py:54\u001b[0m, in \u001b[0;36menforce_types.<locals>.decorate.<locals>.wrapper\u001b[0;34m(*args, **kwargs)\u001b[0m\n\u001b[1;32m     51\u001b[0m \u001b[39m@wraps\u001b[39m(func)\n\u001b[1;32m     52\u001b[0m \u001b[39mdef\u001b[39;00m \u001b[39mwrapper\u001b[39m(\u001b[39m*\u001b[39margs, \u001b[39m*\u001b[39m\u001b[39m*\u001b[39mkwargs):\n\u001b[1;32m     53\u001b[0m     check_types(spec, \u001b[39m*\u001b[39margs, \u001b[39m*\u001b[39m\u001b[39m*\u001b[39mkwargs)\n\u001b[0;32m---> 54\u001b[0m     \u001b[39mreturn\u001b[39;00m func(\u001b[39m*\u001b[39;49margs, \u001b[39m*\u001b[39;49m\u001b[39m*\u001b[39;49mkwargs)\n",
      "File \u001b[0;32m~/Library/Python/3.9/lib/python/site-packages/djitellopy/tello.py:529\u001b[0m, in \u001b[0;36mTello.raise_result_error\u001b[0;34m(self, command, response)\u001b[0m\n\u001b[1;32m    525\u001b[0m \u001b[39m\u001b[39m\u001b[39m\"\"\"Used to reaise an error after an unsuccessful command\u001b[39;00m\n\u001b[1;32m    526\u001b[0m \u001b[39mInternal method, you normally wouldn't call this yourself.\u001b[39;00m\n\u001b[1;32m    527\u001b[0m \u001b[39m\"\"\"\u001b[39;00m\n\u001b[1;32m    528\u001b[0m tries \u001b[39m=\u001b[39m \u001b[39m1\u001b[39m \u001b[39m+\u001b[39m \u001b[39mself\u001b[39m\u001b[39m.\u001b[39mretry_count\n\u001b[0;32m--> 529\u001b[0m \u001b[39mraise\u001b[39;00m TelloException(\u001b[39m\"\u001b[39m\u001b[39mCommand \u001b[39m\u001b[39m'\u001b[39m\u001b[39m{}\u001b[39;00m\u001b[39m'\u001b[39m\u001b[39m was unsuccessful for \u001b[39m\u001b[39m{}\u001b[39;00m\u001b[39m tries. Latest response:\u001b[39m\u001b[39m\\t\u001b[39;00m\u001b[39m'\u001b[39m\u001b[39m{}\u001b[39;00m\u001b[39m'\u001b[39m\u001b[39m\"\u001b[39m\n\u001b[1;32m    530\u001b[0m                      \u001b[39m.\u001b[39mformat(command, tries, response))\n",
      "\u001b[0;31mTelloException\u001b[0m: Command 'takeoff' was unsuccessful for 4 tries. Latest response:\t'error'"
     ]
    },
    {
     "name": "stderr",
     "output_type": "stream",
     "text": [
      "No accelerated colorspace conversion found from yuv420p to rgb24.\n",
      " (repeated 373 more times)\n",
      "left block unavailable for requested intra mode\n",
      "error while decoding MB 0 13, bytestream 12001\n",
      "No accelerated colorspace conversion found from yuv420p to rgb24.\n",
      "No accelerated colorspace conversion found from yuv420p to rgb24.\n",
      " (repeated 1419 more times)\n",
      "error while decoding MB 48 43, bytestream -6\n",
      "No accelerated colorspace conversion found from yuv420p to rgb24.\n",
      "No accelerated colorspace conversion found from yuv420p to rgb24.\n",
      " (repeated 8 more times)\n",
      "error while decoding MB 28 34, bytestream -6\n",
      "No accelerated colorspace conversion found from yuv420p to rgb24.\n",
      "No accelerated colorspace conversion found from yuv420p to rgb24.\n",
      "error while decoding MB 53 39, bytestream -7\n",
      "No accelerated colorspace conversion found from yuv420p to rgb24.\n",
      "No accelerated colorspace conversion found from yuv420p to rgb24.\n",
      " (repeated 3 more times)\n",
      "left block unavailable for requested intra4x4 mode -1\n",
      "error while decoding MB 0 10, bytestream 11094\n",
      "No accelerated colorspace conversion found from yuv420p to rgb24.\n",
      "No accelerated colorspace conversion found from yuv420p to rgb24.\n",
      " (repeated 11 more times)\n",
      "error while decoding MB 53 38, bytestream -6\n",
      "No accelerated colorspace conversion found from yuv420p to rgb24.\n",
      "No accelerated colorspace conversion found from yuv420p to rgb24.\n",
      " (repeated 12 more times)\n",
      "error while decoding MB 26 33, bytestream -6\n",
      "No accelerated colorspace conversion found from yuv420p to rgb24.\n",
      "No accelerated colorspace conversion found from yuv420p to rgb24.\n",
      "error while decoding MB 43 43, bytestream -6\n",
      "No accelerated colorspace conversion found from yuv420p to rgb24.\n",
      "No accelerated colorspace conversion found from yuv420p to rgb24.\n",
      " (repeated 2 more times)\n",
      "left block unavailable for requested intra mode\n",
      "error while decoding MB 0 9, bytestream 10014\n",
      "No accelerated colorspace conversion found from yuv420p to rgb24.\n",
      "No accelerated colorspace conversion found from yuv420p to rgb24.\n",
      " (repeated 3 more times)\n",
      "error while decoding MB 37 38, bytestream -6\n",
      "No accelerated colorspace conversion found from yuv420p to rgb24.\n",
      "No accelerated colorspace conversion found from yuv420p to rgb24.\n",
      " (repeated 3 more times)\n",
      "error while decoding MB 6 39, bytestream -6\n",
      "No accelerated colorspace conversion found from yuv420p to rgb24.\n",
      "No accelerated colorspace conversion found from yuv420p to rgb24.\n",
      " (repeated 3 more times)\n",
      "left block unavailable for requested intra mode\n",
      "error while decoding MB 0 18, bytestream 6240\n",
      "No accelerated colorspace conversion found from yuv420p to rgb24.\n",
      "No accelerated colorspace conversion found from yuv420p to rgb24.\n",
      " (repeated 9 more times)\n",
      "error while decoding MB 26 36, bytestream -6\n",
      "No accelerated colorspace conversion found from yuv420p to rgb24.\n",
      "No accelerated colorspace conversion found from yuv420p to rgb24.\n",
      " (repeated 8 more times)\n",
      "error while decoding MB 7 35, bytestream -6\n",
      "No accelerated colorspace conversion found from yuv420p to rgb24.\n",
      "No accelerated colorspace conversion found from yuv420p to rgb24.\n",
      " (repeated 12 more times)\n",
      "error while decoding MB 34 27, bytestream -5\n",
      "No accelerated colorspace conversion found from yuv420p to rgb24.\n",
      "No accelerated colorspace conversion found from yuv420p to rgb24.\n",
      " (repeated 5 more times)\n",
      "error while decoding MB 53 44, bytestream -6\n",
      "No accelerated colorspace conversion found from yuv420p to rgb24.\n",
      "error while decoding MB 27 39, bytestream -6\n",
      "No accelerated colorspace conversion found from yuv420p to rgb24.\n",
      "No accelerated colorspace conversion found from yuv420p to rgb24.\n",
      " (repeated 24 more times)\n",
      "left block unavailable for requested intra mode\n",
      "error while decoding MB 0 24, bytestream 2287\n",
      "No accelerated colorspace conversion found from yuv420p to rgb24.\n",
      "left block unavailable for requested intra mode\n",
      "error while decoding MB 0 20, bytestream 4034\n",
      "No accelerated colorspace conversion found from yuv420p to rgb24.\n",
      "No accelerated colorspace conversion found from yuv420p to rgb24.\n",
      " (repeated 28 more times)\n",
      "left block unavailable for requested intra mode\n",
      "error while decoding MB 0 4, bytestream 11280\n",
      "No accelerated colorspace conversion found from yuv420p to rgb24.\n",
      "No accelerated colorspace conversion found from yuv420p to rgb24.\n",
      "error while decoding MB 4 43, bytestream -6\n",
      "No accelerated colorspace conversion found from yuv420p to rgb24.\n",
      "No accelerated colorspace conversion found from yuv420p to rgb24.\n",
      " (repeated 4 more times)\n",
      "error while decoding MB 55 39, bytestream -6\n",
      "No accelerated colorspace conversion found from yuv420p to rgb24.\n",
      "No accelerated colorspace conversion found from yuv420p to rgb24.\n",
      " (repeated 9 more times)\n",
      "error while decoding MB 39 44, bytestream -6\n",
      "No accelerated colorspace conversion found from yuv420p to rgb24.\n",
      "No accelerated colorspace conversion found from yuv420p to rgb24.\n",
      " (repeated 2 more times)\n",
      "error while decoding MB 9 40, bytestream -6\n",
      "No accelerated colorspace conversion found from yuv420p to rgb24.\n",
      "No accelerated colorspace conversion found from yuv420p to rgb24.\n",
      " (repeated 17 more times)\n",
      "error while decoding MB 43 39, bytestream -6\n",
      "No accelerated colorspace conversion found from yuv420p to rgb24.\n",
      "No accelerated colorspace conversion found from yuv420p to rgb24.\n",
      " (repeated 8 more times)\n",
      "error while decoding MB 59 43, bytestream -6\n",
      "No accelerated colorspace conversion found from yuv420p to rgb24.\n",
      "No accelerated colorspace conversion found from yuv420p to rgb24.\n",
      " (repeated 8 more times)\n",
      "error while decoding MB 44 44, bytestream -6\n",
      "No accelerated colorspace conversion found from yuv420p to rgb24.\n",
      "No accelerated colorspace conversion found from yuv420p to rgb24.\n",
      " (repeated 8 more times)\n",
      "error while decoding MB 3 42, bytestream -6\n",
      "No accelerated colorspace conversion found from yuv420p to rgb24.\n",
      "No accelerated colorspace conversion found from yuv420p to rgb24.\n",
      " (repeated 8 more times)\n",
      "error while decoding MB 5 40, bytestream -6\n",
      "No accelerated colorspace conversion found from yuv420p to rgb24.\n",
      "No accelerated colorspace conversion found from yuv420p to rgb24.\n",
      " (repeated 8 more times)\n",
      "error while decoding MB 30 40, bytestream -6\n",
      "No accelerated colorspace conversion found from yuv420p to rgb24.\n",
      "No accelerated colorspace conversion found from yuv420p to rgb24.\n",
      " (repeated 8 more times)\n",
      "error while decoding MB 59 44, bytestream -12\n",
      "No accelerated colorspace conversion found from yuv420p to rgb24.\n",
      "left block unavailable for requested intra mode\n",
      "error while decoding MB 0 13, bytestream 6321\n",
      "No accelerated colorspace conversion found from yuv420p to rgb24.\n",
      "No accelerated colorspace conversion found from yuv420p to rgb24.\n",
      " (repeated 14 more times)\n",
      "left block unavailable for requested intra mode\n",
      "error while decoding MB 0 40, bytestream 103\n",
      "No accelerated colorspace conversion found from yuv420p to rgb24.\n",
      "No accelerated colorspace conversion found from yuv420p to rgb24.\n",
      " (repeated 8 more times)\n",
      "error while decoding MB 11 41, bytestream -6\n",
      "No accelerated colorspace conversion found from yuv420p to rgb24.\n",
      "error while decoding MB 1 40, bytestream -6\n",
      "error while decoding MB 4 34, bytestream -6\n",
      "No accelerated colorspace conversion found from yuv420p to rgb24.\n",
      "No accelerated colorspace conversion found from yuv420p to rgb24.\n",
      " (repeated 14 more times)\n",
      "left block unavailable for requested intra mode\n",
      "error while decoding MB 0 8, bytestream 10117\n",
      "No accelerated colorspace conversion found from yuv420p to rgb24.\n",
      "No accelerated colorspace conversion found from yuv420p to rgb24.\n",
      " (repeated 17 more times)\n",
      "error while decoding MB 59 43, bytestream -6\n",
      "No accelerated colorspace conversion found from yuv420p to rgb24.\n",
      "No accelerated colorspace conversion found from yuv420p to rgb24.\n",
      " (repeated 27 more times)\n",
      "left block unavailable for requested intra mode\n",
      "error while decoding MB 0 5, bytestream 10058\n",
      "No accelerated colorspace conversion found from yuv420p to rgb24.\n",
      "No accelerated colorspace conversion found from yuv420p to rgb24.\n",
      " (repeated 7 more times)\n",
      "left block unavailable for requested intra mode\n",
      "error while decoding MB 0 36, bytestream 1131\n",
      "No accelerated colorspace conversion found from yuv420p to rgb24.\n",
      "No accelerated colorspace conversion found from yuv420p to rgb24.\n",
      "left block unavailable for requested intra mode\n",
      "error while decoding MB 0 17, bytestream 4028\n",
      "No accelerated colorspace conversion found from yuv420p to rgb24.\n",
      "No accelerated colorspace conversion found from yuv420p to rgb24.\n",
      " (repeated 40 more times)\n",
      "left block unavailable for requested intra mode\n",
      "error while decoding MB 0 21, bytestream 4657\n",
      "No accelerated colorspace conversion found from yuv420p to rgb24.\n",
      "No accelerated colorspace conversion found from yuv420p to rgb24.\n",
      " (repeated 6 more times)\n",
      "left block unavailable for requested intra mode\n",
      "error while decoding MB 0 29, bytestream 1403\n",
      "No accelerated colorspace conversion found from yuv420p to rgb24.\n",
      "No accelerated colorspace conversion found from yuv420p to rgb24.\n",
      " (repeated 19 more times)\n",
      "left block unavailable for requested intra mode\n",
      "error while decoding MB 0 19, bytestream 5489\n",
      "No accelerated colorspace conversion found from yuv420p to rgb24.\n",
      "error while decoding MB 30 35, bytestream -6\n",
      "No accelerated colorspace conversion found from yuv420p to rgb24.\n",
      "No accelerated colorspace conversion found from yuv420p to rgb24.\n",
      " (repeated 31 more times)\n",
      "error while decoding MB 28 36, bytestream -6\n",
      "No accelerated colorspace conversion found from yuv420p to rgb24.\n",
      "No accelerated colorspace conversion found from yuv420p to rgb24.\n",
      " (repeated 6 more times)\n",
      "left block unavailable for requested intra mode\n",
      "error while decoding MB 0 29, bytestream -1\n",
      "No accelerated colorspace conversion found from yuv420p to rgb24.\n",
      "No accelerated colorspace conversion found from yuv420p to rgb24.\n",
      " (repeated 10 more times)\n",
      "error while decoding MB 58 44, bytestream -6\n",
      "No accelerated colorspace conversion found from yuv420p to rgb24.\n",
      "error while decoding MB 17 35, bytestream -6\n",
      "No accelerated colorspace conversion found from yuv420p to rgb24.\n",
      "No accelerated colorspace conversion found from yuv420p to rgb24.\n",
      " (repeated 64 more times)\n",
      "error while decoding MB 59 44, bytestream -6\n",
      "No accelerated colorspace conversion found from yuv420p to rgb24.\n",
      "No accelerated colorspace conversion found from yuv420p to rgb24.\n",
      " (repeated 21 more times)\n",
      "error while decoding MB 51 41, bytestream -6\n",
      "No accelerated colorspace conversion found from yuv420p to rgb24.\n",
      "No accelerated colorspace conversion found from yuv420p to rgb24.\n",
      " (repeated 1275 more times)\n",
      "left block unavailable for requested intra mode\n",
      "error while decoding MB 0 39, bytestream 1141\n",
      "No accelerated colorspace conversion found from yuv420p to rgb24.\n",
      "No accelerated colorspace conversion found from yuv420p to rgb24.\n",
      " (repeated 1815 more times)\n",
      "error while decoding MB 58 39, bytestream -6\n",
      "No accelerated colorspace conversion found from yuv420p to rgb24.\n"
     ]
    },
    {
     "ename": "",
     "evalue": "",
     "output_type": "error",
     "traceback": [
      "\u001b[1;31m현재 셀 또는 이전 셀에서 코드를 실행하는 동안 Kernel이 충돌했습니다. 셀의 코드를 검토하여 오류의 가능한 원인을 식별하세요. 자세한 내용을 보려면 <a href='https://aka.ms/vscodeJupyterKernelCrash'> 여기 </a> 를 클릭하세요. 자세한 내용은 Jupyter <a href='command:jupyter.viewOutput'>로그</a>를 참조하세요."
     ]
    }
   ],
   "source": [
    "from djitellopy import tello\n",
    "import KeyPressModule as kp\n",
    "import cv2\n",
    "from time import sleep\n",
    "\n",
    "kp.init()\n",
    "me = tello.Tello()\n",
    "me.connect()\n",
    "print(me.get_battery())\n",
    "me.streamon()\n",
    "\n",
    "\n",
    "def getKeyboardInput():\n",
    "    lr, fb, ud, yv = 0, 0, 0, 0\n",
    "    speed = 50\n",
    "    if kp.getKey(\"a\"):\n",
    "        lr = -speed\n",
    "    elif kp.getKey(\"d\"):\n",
    "        lr = speed\n",
    "    if kp.getKey(\"w\"):\n",
    "        fb = speed\n",
    "    elif kp.getKey(\"s\"):\n",
    "        fb = -speed\n",
    "    if kp.getKey(\"UP\"):\n",
    "        ud = speed\n",
    "    elif kp.getKey(\"DOWN\"):\n",
    "        ud = -speed\n",
    "    if kp.getKey(\"e\"):\n",
    "        yv = -speed\n",
    "    elif kp.getKey(\"r\"):\n",
    "        yv = speed\n",
    "    if kp.getKey(\"j\"):\n",
    "        me.land()\n",
    "        sleep(3)\n",
    "    if kp.getKey(\"u\"):\n",
    "        me.takeoff()\n",
    "    return [lr, fb, ud, yv]\n",
    "\n",
    "\n",
    "while True:\n",
    "    # 카메라 스트리밍 처리\n",
    "    img = me.get_frame_read().frame\n",
    "    img = cv2.resize(img, (600, 400))\n",
    "    cv2.imshow(\"Image\", img)\n",
    "    cv2.waitKey(1)\n",
    "\n",
    "    # 키보드 입력과 드론 제어 처리\n",
    "    vals = getKeyboardInput()\n",
    "    me.send_rc_control(vals[0], vals[1], vals[2], vals[3])\n",
    "    sleep(0.05)\n"
   ]
  },
  {
   "cell_type": "code",
   "execution_count": null,
   "metadata": {},
   "outputs": [],
   "source": []
  }
 ],
 "metadata": {
  "kernelspec": {
   "display_name": "Python 3",
   "language": "python",
   "name": "python3"
  },
  "language_info": {
   "codemirror_mode": {
    "name": "ipython",
    "version": 3
   },
   "file_extension": ".py",
   "mimetype": "text/x-python",
   "name": "python",
   "nbconvert_exporter": "python",
   "pygments_lexer": "ipython3",
   "version": "3.9.6"
  }
 },
 "nbformat": 4,
 "nbformat_minor": 2
}
