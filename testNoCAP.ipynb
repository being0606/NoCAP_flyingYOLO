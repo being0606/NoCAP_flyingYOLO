{
 "cells": [
  {
   "cell_type": "code",
   "execution_count": 1,
   "metadata": {},
   "outputs": [],
   "source": [
    "# !pip install djitellopy\n",
    "# !pip install djitellopy\n",
    "# !pip3 install pygame"
   ]
  },
  {
   "cell_type": "code",
   "execution_count": 2,
   "metadata": {},
   "outputs": [
    {
     "name": "stdout",
     "output_type": "stream",
     "text": [
      "Defaulting to user installation because normal site-packages is not writeable\n",
      "Requirement already satisfied: djitellopy in /Users/being/Library/Python/3.9/lib/python/site-packages (2.5.0)\n",
      "Requirement already satisfied: opencv-python in /Users/being/Library/Python/3.9/lib/python/site-packages (from djitellopy) (4.7.0.72)\n",
      "Requirement already satisfied: av in /Users/being/Library/Python/3.9/lib/python/site-packages (from djitellopy) (10.0.0)\n",
      "Requirement already satisfied: numpy in /Users/being/Library/Python/3.9/lib/python/site-packages (from djitellopy) (1.24.2)\n",
      "Requirement already satisfied: pillow in /Users/being/Library/Python/3.9/lib/python/site-packages (from djitellopy) (10.0.1)\n",
      "\u001b[33mWARNING: You are using pip version 21.2.4; however, version 23.3.1 is available.\n",
      "You should consider upgrading via the '/Applications/Xcode.app/Contents/Developer/usr/bin/python3 -m pip install --upgrade pip' command.\u001b[0m\n"
     ]
    }
   ],
   "source": [
    "!pip3 install djitellopy"
   ]
  },
  {
   "cell_type": "code",
   "execution_count": 6,
   "metadata": {},
   "outputs": [
    {
     "name": "stdout",
     "output_type": "stream",
     "text": [
      "Defaulting to user installation because normal site-packages is not writeable\n",
      "Collecting pygame\n",
      "  Downloading pygame-2.5.2-cp39-cp39-macosx_11_0_arm64.whl (12.2 MB)\n",
      "\u001b[K     |████████████████████████████████| 12.2 MB 7.2 MB/s eta 0:00:01\n",
      "\u001b[?25hInstalling collected packages: pygame\n",
      "Successfully installed pygame-2.5.2\n",
      "\u001b[33mWARNING: You are using pip version 21.2.4; however, version 23.3.1 is available.\n",
      "You should consider upgrading via the '/Applications/Xcode.app/Contents/Developer/usr/bin/python3 -m pip install --upgrade pip' command.\u001b[0m\n"
     ]
    }
   ],
   "source": [
    "!pip3 install pygame"
   ]
  },
  {
   "cell_type": "code",
   "execution_count": 3,
   "metadata": {},
   "outputs": [],
   "source": [
    "from djitellopy import tello"
   ]
  },
  {
   "cell_type": "code",
   "execution_count": null,
   "metadata": {},
   "outputs": [],
   "source": [
    "from djitellopy import tello\n",
    "import KeyPressModule as kp\n",
    "import cv2\n",
    "from time import sleep\n",
    "\n",
    "kp.init()\n",
    "me = tello.Tello()\n",
    "me.connect()\n",
    "print(me.get_battery())\n",
    "me.streamon()\n",
    "\n",
    "\n",
    "def getKeyboardInput():\n",
    "    lr, fb, ud, yv = 0, 0, 0, 0\n",
    "    speed = 50\n",
    "    if kp.getKey(\"a\"):\n",
    "        lr = -speed\n",
    "    elif kp.getKey(\"d\"):\n",
    "        lr = speed\n",
    "    if kp.getKey(\"w\"):\n",
    "        fb = speed\n",
    "    elif kp.getKey(\"s\"):\n",
    "        fb = -speed\n",
    "    if kp.getKey(\"UP\"):\n",
    "        ud = speed\n",
    "    elif kp.getKey(\"DOWN\"):\n",
    "        ud = -speed\n",
    "    if kp.getKey(\"e\"):\n",
    "        yv = -speed\n",
    "    elif kp.getKey(\"r\"):\n",
    "        yv = speed\n",
    "    if kp.getKey(\"j\"):\n",
    "        me.land()\n",
    "        sleep(3)\n",
    "    if kp.getKey(\"u\"):\n",
    "        me.takeoff()\n",
    "    return [lr, fb, ud, yv]\n",
    "\n",
    "\n",
    "while True:\n",
    "    # 카메라 스트리밍 처리\n",
    "    img = me.get_frame_read().frame\n",
    "    img = cv2.resize(img, (600, 400))\n",
    "    cv2.imshow(\"Image\", img)\n",
    "    cv2.waitKey(1)\n",
    "\n",
    "    # 키보드 입력과 드론 제어 처리\n",
    "    vals = getKeyboardInput()\n",
    "    me.send_rc_control(vals[0], vals[1], vals[2], vals[3])\n",
    "    sleep(0.05)\n"
   ]
  },
  {
   "cell_type": "code",
   "execution_count": null,
   "metadata": {},
   "outputs": [],
   "source": []
  }
 ],
 "metadata": {
  "kernelspec": {
   "display_name": "Python 3",
   "language": "python",
   "name": "python3"
  },
  "language_info": {
   "codemirror_mode": {
    "name": "ipython",
    "version": 3
   },
   "file_extension": ".py",
   "mimetype": "text/x-python",
   "name": "python",
   "nbconvert_exporter": "python",
   "pygments_lexer": "ipython3",
   "version": "3.9.6"
  }
 },
 "nbformat": 4,
 "nbformat_minor": 2
}
