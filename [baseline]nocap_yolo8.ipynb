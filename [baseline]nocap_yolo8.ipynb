{
 "cells": [
  {
   "cell_type": "code",
   "execution_count": 1,
   "metadata": {},
   "outputs": [],
   "source": [
    "# !pip install ultralytics\n",
    "# !pip install djitellopy\n",
    "# !pip install opencv-python"
   ]
  },
  {
   "cell_type": "code",
   "execution_count": null,
   "metadata": {},
   "outputs": [
    {
     "name": "stderr",
     "output_type": "stream",
     "text": [
      "PRO TIP 💡 Replace 'model=yolo-Weights/yolov5n.pt' with new 'model=yolo-Weights/yolov5nu.pt'.\n",
      "YOLOv5 'u' models are trained with https://github.com/ultralytics/ultralytics and feature improved performance vs standard YOLOv5 models trained with https://github.com/ultralytics/yolov5.\n",
      "\n",
      "Downloading https://github.com/ultralytics/assets/releases/download/v0.0.0/yolov5nu.pt to 'yolo-Weights/yolov5nu.pt'...\n"
     ]
    },
    {
     "name": "stdout",
     "output_type": "stream",
     "text": [
      "pygame 2.5.2 (SDL 2.28.3, Python 3.9.6)\n",
      "Hello from the pygame community. https://www.pygame.org/contribute.html\n"
     ]
    },
    {
     "name": "stderr",
     "output_type": "stream",
     "text": [
      "100%|██████████| 5.27M/5.27M [00:00<00:00, 13.9MB/s]\n",
      "2023-11-03 21:47:16.710 Python[43940:558537] WARNING: Secure coding is automatically enabled for restorable state! However, not on all supported macOS versions of this application. Opt-in to secure coding explicitly by implementing NSApplicationDelegate.applicationSupportsSecureRestorableState:.\n",
      "[INFO] tello.py - 129 - Tello instance was initialized. Host: '192.168.10.1'. Port: '8889'.\n",
      "[INFO] tello.py - 438 - Send command: 'command'\n",
      "[WARNING] tello.py - 448 - Aborting command 'command'. Did not receive a response after 7 seconds\n",
      "[INFO] tello.py - 438 - Send command: 'command'\n"
     ]
    },
    {
     "ename": "",
     "evalue": "",
     "output_type": "error",
     "traceback": [
      "\u001b[1;31m현재 셀 또는 이전 셀에서 코드를 실행하는 동안 Kernel이 충돌했습니다. 셀의 코드를 검토하여 오류의 가능한 원인을 식별하세요. 자세한 내용을 보려면 <a href='https://aka.ms/vscodeJupyterKernelCrash'> 여기 </a> 를 클릭하세요. 자세한 내용은 Jupyter <a href='command:jupyter.viewOutput'>로그</a>를 참조하세요."
     ]
    }
   ],
   "source": [
    "from ultralytics import YOLO\n",
    "import cv2\n",
    "import math\n",
    "from time import sleep\n",
    "\n",
    "from djitellopy import tello\n",
    "import KeyPressModule as kp\n",
    "\n",
    "\n",
    "# model\n",
    "model = YOLO(\"yolo-Weights/yolov8n.pt\")\n",
    "\n",
    "# object classes\n",
    "classNames = [\"person\", \"bicycle\", \"car\", \"motorbike\", \"aeroplane\", \"bus\", \"train\", \"truck\", \"boat\",\n",
    "              \"traffic light\", \"fire hydrant\", \"stop sign\", \"parking meter\", \"bench\", \"bird\", \"cat\",\n",
    "              \"dog\", \"horse\", \"sheep\", \"cow\", \"elephant\", \"bear\", \"zebra\", \"giraffe\", \"backpack\", \"umbrella\",\n",
    "              \"handbag\", \"tie\", \"suitcase\", \"frisbee\", \"skis\", \"snowboard\", \"sports ball\", \"kite\", \"baseball bat\",\n",
    "              \"baseball glove\", \"skateboard\", \"surfboard\", \"tennis racket\", \"bottle\", \"wine glass\", \"cup\",\n",
    "              \"fork\", \"knife\", \"spoon\", \"bowl\", \"banana\", \"apple\", \"sandwich\", \"orange\", \"broccoli\",\n",
    "              \"carrot\", \"hot dog\", \"pizza\", \"donut\", \"cake\", \"chair\", \"sofa\", \"pottedplant\", \"bed\",\n",
    "              \"diningtable\", \"toilet\", \"tvmonitor\", \"laptop\", \"mouse\", \"remote\", \"keyboard\", \"cell phone\",\n",
    "              \"microwave\", \"oven\", \"toaster\", \"sink\", \"refrigerator\", \"book\", \"clock\", \"vase\", \"scissors\",\n",
    "              \"teddy bear\", \"hair drier\", \"toothbrush\"\n",
    "              ]\n",
    "\n",
    "# \"person\" 클래스의 인덱스 추출\n",
    "person_index = classNames.index(\"person\")\n",
    "\n",
    "def getKeyboardInput(me,kp):\n",
    "    lr, fb, ud, yv = 0, 0, 0, 0\n",
    "    speed = 50\n",
    "    if kp.getKey(\"a\"):\n",
    "        lr = -speed\n",
    "    elif kp.getKey(\"d\"):\n",
    "        lr = speed\n",
    "    if kp.getKey(\"w\"):\n",
    "        fb = speed\n",
    "    elif kp.getKey(\"s\"):\n",
    "        fb = -speed\n",
    "    if kp.getKey(\"UP\"):\n",
    "        ud = speed\n",
    "    elif kp.getKey(\"DOWN\"):\n",
    "        ud = -speed\n",
    "    if kp.getKey(\"e\"):\n",
    "        yv = -speed\n",
    "    elif kp.getKey(\"r\"):\n",
    "        yv = speed\n",
    "    if kp.getKey(\"j\"):\n",
    "        me.land()\n",
    "        sleep(3)\n",
    "    if kp.getKey(\"u\"):\n",
    "        me.takeoff()\n",
    "    return [lr, fb, ud, yv]\n",
    "\n",
    "input('텔로와 와이파이를 연결하시오 : (입력은 아무 키나 입력 후 엔터)')\n",
    "\n",
    "kp.init()\n",
    "me = tello.Tello()\n",
    "me.connect()\n",
    "print(me.get_battery())\n",
    "me.streamon()\n",
    "\n",
    "while True:\n",
    "    # 카메라 스트리밍 처리\n",
    "    img = me.get_frame_read().frame\n",
    "    img = cv2.resize(img, (600, 400))\n",
    "\n",
    "    # YOLO 객체 탐지\n",
    "    results = model(img, stream=True)\n",
    "    for r in results:\n",
    "        boxes = r.boxes\n",
    "        for box in boxes:\n",
    "            cls = int(box.cls[0])\n",
    "            # \"person\" 클래스만 탐지\n",
    "            if cls == person_index:\n",
    "                x1, y1, x2, y2 = box.xyxy[0]\n",
    "                x1, y1, x2, y2 = int(x1), int(y1), int(x2), int(y2)\n",
    "                cv2.rectangle(img, (x1, y1), (x2, y2), (255, 0, 255), 3)\n",
    "                org = [x1, y1]\n",
    "                font = cv2.FONT_HERSHEY_SIMPLEX\n",
    "                # cv2.putText(img, classNames[cls], org, font, 1, (255, 0, 0), 2)\n",
    "                cv2.putText(img, \"NoCAP\", org, font, 1, (255, 0, 0), 2)\n",
    "\n",
    "    cv2.imshow(\"Image\", img)\n",
    "    cv2.waitKey(1)\n",
    "\n",
    "    # 키보드 입력과 드론 제어 처리\n",
    "    vals = getKeyboardInput(me,kp)\n",
    "    me.send_rc_control(vals[0], vals[1], vals[2], vals[3])\n",
    "    sleep(0.05)\n",
    "\n"
   ]
  },
  {
   "cell_type": "code",
   "execution_count": null,
   "metadata": {},
   "outputs": [],
   "source": []
  },
  {
   "cell_type": "code",
   "execution_count": null,
   "metadata": {},
   "outputs": [],
   "source": []
  }
 ],
 "metadata": {
  "kernelspec": {
   "display_name": "Python 3",
   "language": "python",
   "name": "python3"
  },
  "language_info": {
   "codemirror_mode": {
    "name": "ipython",
    "version": 3
   },
   "file_extension": ".py",
   "mimetype": "text/x-python",
   "name": "python",
   "nbconvert_exporter": "python",
   "pygments_lexer": "ipython3",
   "version": "3.9.6"
  }
 },
 "nbformat": 4,
 "nbformat_minor": 2
}
